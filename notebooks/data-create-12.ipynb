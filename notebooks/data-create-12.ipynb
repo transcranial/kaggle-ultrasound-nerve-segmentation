{
 "cells": [
  {
   "cell_type": "code",
   "execution_count": 1,
   "metadata": {
    "collapsed": true
   },
   "outputs": [],
   "source": [
    "import os\n",
    "import numpy as np\n",
    "from skimage import io\n",
    "from matplotlib import pyplot as plt\n",
    "from scipy.misc import imresize\n",
    "from scipy import ndimage\n",
    "\n",
    "%matplotlib inline\n",
    "\n",
    "import random\n",
    "import csv\n",
    "import re\n",
    "import pickle\n",
    "import json\n",
    "from tqdm import tqdm\n",
    "\n",
    "DATADIR = os.path.expanduser('~/data/kaggle/ultrasound-nerve-segmentation')\n",
    "PROCDIR = os.path.expanduser('~/ml/kaggle/ultrasound-nerve-segmentation/processed')\n",
    "MODELDIR = os.path.expanduser('~/ml/kaggle/ultrasound-nerve-segmentation/models')"
   ]
  },
  {
   "cell_type": "code",
   "execution_count": 2,
   "metadata": {
    "collapsed": true
   },
   "outputs": [],
   "source": [
    "with open(os.path.join(PROCDIR, 'train_files_map.pkl'), 'rb') as f:\n",
    "    train_files_map = pickle.load(f)\n",
    "with open(os.path.join(PROCDIR, 'test_files_map.pkl'), 'rb') as f:\n",
    "    test_files_map = pickle.load(f)"
   ]
  },
  {
   "cell_type": "markdown",
   "metadata": {},
   "source": [
    "## create dataset"
   ]
  },
  {
   "cell_type": "code",
   "execution_count": 3,
   "metadata": {
    "collapsed": false
   },
   "outputs": [
    {
     "name": "stderr",
     "output_type": "stream",
     "text": [
      "  0%|          | 13/5635 [00:00<04:05, 22.86it/s]/home/leon/install/miniconda3/lib/python3.5/site-packages/skimage/external/tifffile/tifffile.py:1794: RuntimeWarning: py_decodelzw encountered unexpected end of stream\n",
      "  strip = decompress(strip)\n",
      "100%|██████████| 5635/5635 [02:14<00:00, 41.75it/s]\n"
     ]
    },
    {
     "name": "stdout",
     "output_type": "stream",
     "text": [
      "image shapes: (123720, 64, 64, 1) (11520, 64, 64, 1)\n",
      "mask shapes: (123720, 64, 64) (11520, 64, 64)\n"
     ]
    }
   ],
   "source": [
    "orig_img_rows, orig_img_cols = 420, 580\n",
    "resized_img_rows, resized_img_cols = 128, 192\n",
    "patch_rows, patch_cols = 64, 64\n",
    "img_channels = 1\n",
    "\n",
    "# 90/10 train/val split, by subject\n",
    "data_patches_train = []\n",
    "data_masks_train = []\n",
    "data_patches_val = []\n",
    "data_masks_val = []\n",
    "\n",
    "subjects = set([f['subject'] for f in train_files_map.values()])\n",
    "subjects_val = np.random.choice(list(subjects), int(len(subjects) * 0.1), replace=False)\n",
    "\n",
    "for file_info in tqdm(train_files_map.values()):\n",
    "    subject, img, folder, img_file, mask_file = (file_info['subject'], \n",
    "                                                 file_info['img'], \n",
    "                                                 file_info['folder'], \n",
    "                                                 file_info['img_file'], \n",
    "                                                 file_info['mask_file'])\n",
    "    img_filepath = os.path.join(folder, img_file)\n",
    "    mask_filepath = os.path.join(folder, mask_file)\n",
    "    image = io.imread(img_filepath) / 255.0\n",
    "    mask = io.imread(mask_filepath) / 255.0\n",
    "    image_resized = imresize(image, size=(resized_img_rows, resized_img_cols), interp='bilinear')\n",
    "    mask_resized = imresize(mask, size=(resized_img_rows, resized_img_cols), interp='bilinear').astype(np.bool)\n",
    "    \n",
    "    row_stride = patch_rows // 2\n",
    "    col_stride = patch_cols // 2\n",
    "    for i in range(resized_img_rows // row_stride):\n",
    "        for j in range(resized_img_cols // col_stride):\n",
    "            image_patch = np.zeros((patch_rows, patch_cols))\n",
    "            mask_patch = np.zeros((patch_rows, patch_cols))\n",
    "            \n",
    "            row_start, col_start = i * row_stride, j * col_stride\n",
    "            row_end, col_end = row_start + patch_rows, col_start + patch_cols\n",
    "            if row_end >= resized_img_rows:\n",
    "                row_end = resized_img_rows\n",
    "            if col_end >= resized_img_cols:\n",
    "                col_end = resized_img_cols\n",
    "            image_patch[0:(row_end-row_start), 0:(col_end-col_start)] = image_resized[row_start:row_end, col_start:col_end]\n",
    "            mask_patch[0:(row_end-row_start), 0:(col_end-col_start)] = mask_resized[row_start:row_end, col_start:col_end]\n",
    "    \n",
    "            if subject in subjects_val:\n",
    "                data_patches_val.append(image_patch)\n",
    "                data_masks_val.append(mask_patch)\n",
    "            else:\n",
    "                data_patches_train.append(image_patch)\n",
    "                data_masks_train.append(mask_patch)\n",
    "\n",
    "data_patches_train = np.expand_dims(np.array(data_patches_train, dtype=np.float32), axis=3)\n",
    "data_masks_train = np.array(data_masks_train, dtype=np.bool)\n",
    "data_patches_val = np.expand_dims(np.array(data_patches_val, dtype=np.float32), axis=3)\n",
    "data_masks_val = np.array(data_masks_val, dtype=np.bool)\n",
    "\n",
    "print('image shapes:', data_patches_train.shape, data_patches_val.shape)\n",
    "print('mask shapes:', data_masks_train.shape, data_masks_val.shape)"
   ]
  },
  {
   "cell_type": "markdown",
   "metadata": {},
   "source": [
    "## save"
   ]
  },
  {
   "cell_type": "code",
   "execution_count": 4,
   "metadata": {
    "collapsed": true
   },
   "outputs": [],
   "source": [
    "with open(os.path.join(PROCDIR, 'data_train_val_12.pkl'), 'wb') as f:\n",
    "    pickle.dump((data_patches_train, data_masks_train,\n",
    "                 data_patches_val, data_masks_val), f, protocol=4)"
   ]
  },
  {
   "cell_type": "code",
   "execution_count": null,
   "metadata": {
    "collapsed": true
   },
   "outputs": [],
   "source": []
  }
 ],
 "metadata": {
  "kernelspec": {
   "display_name": "Python 3",
   "language": "python",
   "name": "python3"
  },
  "language_info": {
   "codemirror_mode": {
    "name": "ipython",
    "version": 3
   },
   "file_extension": ".py",
   "mimetype": "text/x-python",
   "name": "python",
   "nbconvert_exporter": "python",
   "pygments_lexer": "ipython3",
   "version": "3.5.1"
  }
 },
 "nbformat": 4,
 "nbformat_minor": 0
}
