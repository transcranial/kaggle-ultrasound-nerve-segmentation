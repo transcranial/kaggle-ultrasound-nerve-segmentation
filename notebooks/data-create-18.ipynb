{
 "cells": [
  {
   "cell_type": "code",
   "execution_count": 1,
   "metadata": {
    "collapsed": true
   },
   "outputs": [],
   "source": [
    "import os\n",
    "import numpy as np\n",
    "from skimage import io\n",
    "from matplotlib import pyplot as plt\n",
    "from scipy.misc import imresize\n",
    "from scipy import ndimage\n",
    "\n",
    "%matplotlib inline\n",
    "\n",
    "import random\n",
    "import csv\n",
    "import re\n",
    "import pickle\n",
    "import json\n",
    "from tqdm import tqdm\n",
    "from natsort import natsorted\n",
    "\n",
    "DATADIR = os.path.expanduser('~/ml/kaggle/ultrasound-nerve-segmentation/data')\n",
    "PROCDIR = os.path.expanduser('~/ml/kaggle/ultrasound-nerve-segmentation/processed')\n",
    "MODELDIR = os.path.expanduser('~/ml/kaggle/ultrasound-nerve-segmentation/models')"
   ]
  },
  {
   "cell_type": "code",
   "execution_count": 2,
   "metadata": {
    "collapsed": true
   },
   "outputs": [],
   "source": [
    "with open(os.path.join(PROCDIR, 'train_files_map.pkl'), 'rb') as f:\n",
    "    train_files_map = pickle.load(f)\n",
    "with open(os.path.join(PROCDIR, 'test_files_map.pkl'), 'rb') as f:\n",
    "    test_files_map = pickle.load(f)\n",
    "    \n",
    "keys_sorted = natsorted(list(train_files_map.keys()))"
   ]
  },
  {
   "cell_type": "markdown",
   "metadata": {},
   "source": [
    "## presence dataset"
   ]
  },
  {
   "cell_type": "code",
   "execution_count": 5,
   "metadata": {
    "collapsed": false
   },
   "outputs": [
    {
     "name": "stderr",
     "output_type": "stream",
     "text": [
      "  1%|          | 46/5635 [00:00<01:42, 54.29it/s]/home/leon/install/miniconda3/lib/python3.5/site-packages/skimage/external/tifffile/tifffile.py:1794: RuntimeWarning: py_decodelzw encountered unexpected end of stream\n",
      "  strip = decompress(strip)\n",
      "100%|██████████| 5635/5635 [01:33<00:00, 60.51it/s]\n"
     ]
    },
    {
     "name": "stdout",
     "output_type": "stream",
     "text": [
      "image shapes: (5155, 96, 128, 1) (480, 96, 128, 1)\n",
      "presence shapes: (5155,) (480,)\n"
     ]
    }
   ],
   "source": [
    "orig_img_rows, orig_img_cols = 420, 580\n",
    "img_rows, img_cols = 96, 128\n",
    "img_channels = 1\n",
    "\n",
    "# 90/10 train/val split, by subject\n",
    "data_images_train = []\n",
    "data_presence_train = []\n",
    "data_images_val = []\n",
    "data_presence_val = []\n",
    "\n",
    "subjects = set([f['subject'] for f in train_files_map.values()])\n",
    "subjects_val = np.random.choice(list(subjects), int(len(subjects) * 0.1), replace=False)\n",
    "\n",
    "for i in tqdm(range(len(keys_sorted))):\n",
    "    key = keys_sorted[i]\n",
    "    file_info = train_files_map[key]\n",
    "    subject, img, folder, img_file, mask_file = (file_info['subject'], \n",
    "                                                 file_info['img'], \n",
    "                                                 file_info['folder'], \n",
    "                                                 file_info['img_file'], \n",
    "                                                 file_info['mask_file'])\n",
    "    img_filepath = os.path.join(folder, img_file)\n",
    "    mask_filepath = os.path.join(folder, mask_file)\n",
    "    image = io.imread(img_filepath)\n",
    "    mask = io.imread(mask_filepath)\n",
    "    presence = np.sum(mask) > 0\n",
    "    image_resized = imresize(image, size=(img_rows, img_cols), interp='bilinear') / 255.0\n",
    "    if subject in subjects_val:\n",
    "        data_images_val.append(image_resized)\n",
    "        data_presence_val.append(presence)\n",
    "    else:\n",
    "        data_images_train.append(image_resized)\n",
    "        data_presence_train.append(presence)\n",
    "\n",
    "data_images_train = np.expand_dims(np.array(data_images_train, dtype=np.float32), axis=3)\n",
    "data_presence_train = np.array(data_presence_train, dtype=np.bool)\n",
    "data_images_val = np.expand_dims(np.array(data_images_val, dtype=np.float32), axis=3)\n",
    "data_presence_val = np.array(data_presence_val, dtype=np.bool)\n",
    "\n",
    "print('image shapes:', data_images_train.shape, data_images_val.shape)\n",
    "print('presence shapes:', data_presence_train.shape, data_presence_val.shape)"
   ]
  },
  {
   "cell_type": "code",
   "execution_count": 6,
   "metadata": {
    "collapsed": false
   },
   "outputs": [
    {
     "name": "stderr",
     "output_type": "stream",
     "text": [
      "100%|██████████| 5155/5155 [00:04<00:00, 1063.81it/s]\n"
     ]
    },
    {
     "name": "stdout",
     "output_type": "stream",
     "text": [
      "image shapes: (30930, 96, 128, 1) (480, 96, 128, 1)\n",
      "presence shapes: (30930,) (480,)\n"
     ]
    }
   ],
   "source": [
    "multiplier = 5\n",
    "\n",
    "data_images_train_augment = []\n",
    "data_presence_train_augment = []\n",
    "for i in tqdm(range(data_images_train.shape[0])):\n",
    "    data_images_train_augment.append(data_images_train[i])\n",
    "    data_presence_train_augment.append(data_presence_train[i])\n",
    "    for j in range(multiplier):\n",
    "        y_shift = random.randint(int(data_images_train.shape[1] * -0.125), \n",
    "                                 int(data_images_train.shape[1] * 0.125))\n",
    "        x_shift = random.randint(int(data_images_train.shape[2] * -0.125), \n",
    "                                 int(data_images_train.shape[2] * 0.125))\n",
    "        image_aug = ndimage.interpolation.shift(data_images_train[i], (y_shift, x_shift, 0), order=0)\n",
    "        presence = data_presence_train[i]\n",
    "        data_images_train_augment.append(image_aug)\n",
    "        data_presence_train_augment.append(presence)\n",
    "\n",
    "index_shuffled = np.arange(len(data_images_train_augment))\n",
    "np.random.shuffle(index_shuffled)\n",
    "data_images_train = np.array(data_images_train_augment, dtype=np.float32)[index_shuffled]\n",
    "data_presence_train = np.array(data_presence_train_augment, dtype=np.bool)[index_shuffled]\n",
    "\n",
    "print('image shapes:', data_images_train.shape, data_images_val.shape)\n",
    "print('presence shapes:', data_presence_train.shape, data_presence_val.shape)"
   ]
  },
  {
   "cell_type": "code",
   "execution_count": 7,
   "metadata": {
    "collapsed": true
   },
   "outputs": [],
   "source": [
    "with open(os.path.join(PROCDIR, 'data_train_val_presence_18a.pkl'), 'wb') as f:\n",
    "    pickle.dump((data_images_train, data_presence_train, data_images_val, data_presence_val), f, protocol=4)"
   ]
  },
  {
   "cell_type": "markdown",
   "metadata": {},
   "source": [
    "## segmentation dataset"
   ]
  },
  {
   "cell_type": "code",
   "execution_count": 4,
   "metadata": {
    "collapsed": false
   },
   "outputs": [
    {
     "name": "stderr",
     "output_type": "stream",
     "text": [
      "  1%|          | 46/5635 [00:00<01:46, 52.25it/s]/home/leon/install/miniconda3/lib/python3.5/site-packages/skimage/external/tifffile/tifffile.py:1794: RuntimeWarning: py_decodelzw encountered unexpected end of stream\n",
      "  strip = decompress(strip)\n",
      "100%|██████████| 5635/5635 [01:44<00:00, 53.77it/s]\n"
     ]
    },
    {
     "name": "stdout",
     "output_type": "stream",
     "text": [
      "image shapes: (5156, 96, 128, 1) (479, 96, 128, 1) (2154, 96, 128, 1) (169, 96, 128, 1)\n",
      "mask shapes: (5156, 96, 128) (479, 96, 128) (2154, 96, 128) (169, 96, 128)\n"
     ]
    }
   ],
   "source": [
    "orig_img_rows, orig_img_cols = 420, 580\n",
    "img_rows, img_cols = 96, 128\n",
    "img_channels = 1\n",
    "\n",
    "# 90/10 train/val split, by subject\n",
    "data_images_train = []\n",
    "data_masks_train = []\n",
    "data_images_val = []\n",
    "data_masks_val = []\n",
    "data_images_pos_train = []\n",
    "data_masks_pos_train = []\n",
    "data_images_pos_val = []\n",
    "data_masks_pos_val = []\n",
    "\n",
    "subjects = set([f['subject'] for f in train_files_map.values()])\n",
    "subjects_val = np.random.choice(list(subjects), int(len(subjects) * 0.1), replace=False)\n",
    "\n",
    "for i in tqdm(range(len(keys_sorted))):\n",
    "    key = keys_sorted[i]\n",
    "    file_info = train_files_map[key]\n",
    "    subject, img, folder, img_file, mask_file = (file_info['subject'], \n",
    "                                                 file_info['img'], \n",
    "                                                 file_info['folder'], \n",
    "                                                 file_info['img_file'], \n",
    "                                                 file_info['mask_file'])\n",
    "    img_filepath = os.path.join(folder, img_file)\n",
    "    mask_filepath = os.path.join(folder, mask_file)\n",
    "    image = io.imread(img_filepath)\n",
    "    mask = io.imread(mask_filepath)\n",
    "    presence = np.sum(mask) > 0\n",
    "    image_resized = imresize(image, size=(img_rows, img_cols), interp='bilinear') / 255.0\n",
    "    mask_resized = imresize(mask, size=(img_rows, img_cols), interp='bilinear').astype(np.bool)\n",
    "    if subject in subjects_val:\n",
    "        data_images_val.append(image_resized)\n",
    "        data_masks_val.append(mask_resized)\n",
    "        if presence:\n",
    "            data_images_pos_val.append(image_resized)\n",
    "            data_masks_pos_val.append(mask_resized)\n",
    "    else:\n",
    "        data_images_train.append(image_resized)\n",
    "        data_masks_train.append(mask_resized)\n",
    "        if presence:\n",
    "            data_images_pos_train.append(image_resized)\n",
    "            data_masks_pos_train.append(mask_resized)\n",
    "\n",
    "data_images_train = np.expand_dims(np.array(data_images_train, dtype=np.float32), axis=3)\n",
    "data_masks_train = np.array(data_masks_train, dtype=np.bool)\n",
    "data_images_val = np.expand_dims(np.array(data_images_val, dtype=np.float32), axis=3)\n",
    "data_masks_val = np.array(data_masks_val, dtype=np.bool)\n",
    "data_images_pos_train = np.expand_dims(np.array(data_images_pos_train, dtype=np.float32), axis=3)\n",
    "data_masks_pos_train = np.array(data_masks_pos_train, dtype=np.bool)\n",
    "data_images_pos_val = np.expand_dims(np.array(data_images_pos_val, dtype=np.float32), axis=3)\n",
    "data_masks_pos_val = np.array(data_masks_pos_val, dtype=np.bool)\n",
    "\n",
    "print('image shapes:', \n",
    "      data_images_train.shape, data_images_val.shape, \n",
    "      data_images_pos_train.shape, data_images_pos_val.shape)\n",
    "print('mask shapes:', \n",
    "      data_masks_train.shape, data_masks_val.shape, \n",
    "      data_masks_pos_train.shape, data_masks_pos_val.shape)"
   ]
  },
  {
   "cell_type": "code",
   "execution_count": 5,
   "metadata": {
    "collapsed": false
   },
   "outputs": [
    {
     "name": "stderr",
     "output_type": "stream",
     "text": [
      "100%|██████████| 5156/5156 [00:08<00:00, 579.19it/s]\n",
      "100%|██████████| 2154/2154 [00:03<00:00, 580.17it/s]\n"
     ]
    },
    {
     "name": "stdout",
     "output_type": "stream",
     "text": [
      "image shapes: (30936, 96, 128, 1) (479, 96, 128, 1) (12924, 96, 128, 1) (169, 96, 128, 1)\n",
      "mask shapes: (30936, 96, 128) (479, 96, 128) (12924, 96, 128) (169, 96, 128)\n"
     ]
    }
   ],
   "source": [
    "multiplier = 5\n",
    "\n",
    "data_images_train_augment = []\n",
    "data_masks_train_augment = []\n",
    "data_images_pos_train_augment = []\n",
    "data_masks_pos_train_augment = []\n",
    "for i in tqdm(range(data_images_train.shape[0])):\n",
    "    data_images_train_augment.append(data_images_train[i])\n",
    "    data_masks_train_augment.append(data_masks_train[i])\n",
    "    for j in range(multiplier):\n",
    "        y_shift = random.randint(int(data_images_train.shape[1] * -0.125), \n",
    "                                 int(data_images_train.shape[1] * 0.125))\n",
    "        x_shift = random.randint(int(data_images_train.shape[2] * -0.125), \n",
    "                                 int(data_images_train.shape[2] * 0.125))\n",
    "        image_aug = ndimage.interpolation.shift(data_images_train[i], (y_shift, x_shift, 0), order=0)\n",
    "        mask_aug = ndimage.interpolation.shift(data_masks_train[i], (y_shift, x_shift), order=0)\n",
    "        data_images_train_augment.append(image_aug)\n",
    "        data_masks_train_augment.append(mask_aug)\n",
    "for i in tqdm(range(data_images_pos_train.shape[0])):\n",
    "    data_images_pos_train_augment.append(data_images_pos_train[i])\n",
    "    data_masks_pos_train_augment.append(data_masks_pos_train[i])\n",
    "    for j in range(multiplier):\n",
    "        y_shift = random.randint(int(data_images_pos_train.shape[1] * -0.125), \n",
    "                                 int(data_images_pos_train.shape[1] * 0.125))\n",
    "        x_shift = random.randint(int(data_images_pos_train.shape[2] * -0.125), \n",
    "                                 int(data_images_pos_train.shape[2] * 0.125))\n",
    "        image_pos_aug = ndimage.interpolation.shift(data_images_pos_train[i], (y_shift, x_shift, 0), order=0)\n",
    "        mask_pos_aug = ndimage.interpolation.shift(data_masks_pos_train[i], (y_shift, x_shift), order=0)\n",
    "        data_images_pos_train_augment.append(image_pos_aug)\n",
    "        data_masks_pos_train_augment.append(mask_pos_aug)\n",
    "\n",
    "index_shuffled = np.arange(len(data_images_train_augment))\n",
    "np.random.shuffle(index_shuffled)\n",
    "data_images_train = np.array(data_images_train_augment, dtype=np.float32)[index_shuffled]\n",
    "data_masks_train = np.array(data_masks_train_augment, dtype=np.bool)[index_shuffled]\n",
    "index_shuffled = np.arange(len(data_images_pos_train_augment))\n",
    "np.random.shuffle(index_shuffled)\n",
    "data_images_pos_train = np.array(data_images_pos_train_augment, dtype=np.float32)[index_shuffled]\n",
    "data_masks_pos_train = np.array(data_masks_pos_train_augment, dtype=np.bool)[index_shuffled]\n",
    "\n",
    "print('image shapes:', \n",
    "      data_images_train.shape, data_images_val.shape,\n",
    "      data_images_pos_train.shape, data_images_pos_val.shape)\n",
    "print('mask shapes:', \n",
    "      data_masks_train.shape, data_masks_val.shape,\n",
    "      data_masks_pos_train.shape, data_masks_pos_val.shape)"
   ]
  },
  {
   "cell_type": "code",
   "execution_count": 6,
   "metadata": {
    "collapsed": false
   },
   "outputs": [],
   "source": [
    "with open(os.path.join(PROCDIR, 'data_train_val_segment_18b.pkl'), 'wb') as f:\n",
    "    pickle.dump((data_images_train, data_masks_train, \n",
    "                 data_images_val, data_masks_val,\n",
    "                 data_images_pos_train, data_masks_pos_train,\n",
    "                 data_images_pos_val, data_masks_pos_val), f, protocol=4)"
   ]
  },
  {
   "cell_type": "markdown",
   "metadata": {},
   "source": [
    "## mask dataset"
   ]
  },
  {
   "cell_type": "code",
   "execution_count": 55,
   "metadata": {
    "collapsed": false
   },
   "outputs": [
    {
     "name": "stderr",
     "output_type": "stream",
     "text": [
      " 23%|██▎       | 1315/5635 [00:01<00:05, 826.32it/s]/home/leon/install/miniconda3/lib/python3.5/site-packages/skimage/external/tifffile/tifffile.py:1794: RuntimeWarning: py_decodelzw encountered unexpected end of stream\n",
      "  strip = decompress(strip)\n",
      "100%|██████████| 5635/5635 [00:06<00:00, 814.37it/s]"
     ]
    },
    {
     "name": "stdout",
     "output_type": "stream",
     "text": [
      "mask shapes: (2112, 96, 128) (256, 96, 128)\n"
     ]
    },
    {
     "name": "stderr",
     "output_type": "stream",
     "text": [
      "\n"
     ]
    }
   ],
   "source": [
    "batch_size = 64\n",
    "\n",
    "# 90/10 train/val split, by subject\n",
    "data_masks_train = []\n",
    "data_masks_val = []\n",
    "\n",
    "subjects = set([f['subject'] for f in train_files_map.values()])\n",
    "subjects_val = np.random.choice(list(subjects), int(len(subjects) * 0.1), replace=False)\n",
    "\n",
    "for file_info in tqdm(train_files_map.values()):\n",
    "    subject, img, folder, img_file, mask_file = (file_info['subject'], \n",
    "                                                 file_info['img'], \n",
    "                                                 file_info['folder'], \n",
    "                                                 file_info['img_file'], \n",
    "                                                 file_info['mask_file'])\n",
    "    mask_filepath = os.path.join(folder, mask_file)\n",
    "    mask = io.imread(mask_filepath)\n",
    "    \n",
    "    if np.sum(mask) == 0:\n",
    "        continue\n",
    "        \n",
    "    mask_resized = (imresize(mask, size=(img_rows, img_cols), interp='bilinear') / 255.0).astype(np.bool)\n",
    "    if subject in subjects_val:\n",
    "        data_masks_val.append(mask_resized)\n",
    "    else:\n",
    "        data_masks_train.append(mask_resized)\n",
    "\n",
    "# divisible by batch_size for train on batch\n",
    "data_masks_train.extend(data_masks_train[:(batch_size - len(data_masks_train) % batch_size)])\n",
    "data_masks_val.extend(data_masks_val[:(batch_size - len(data_masks_val) % batch_size)])\n",
    "\n",
    "index_shuffled = np.arange(len(data_masks_train))\n",
    "np.random.shuffle(index_shuffled)\n",
    "data_masks_train = np.array(data_masks_train, dtype=np.bool)[index_shuffled]\n",
    "index_shuffled = np.arange(len(data_masks_val))\n",
    "np.random.shuffle(index_shuffled)\n",
    "data_masks_val = np.array(data_masks_val, dtype=np.bool)[index_shuffled]\n",
    "\n",
    "print('mask shapes:', data_masks_train.shape, data_masks_val.shape)"
   ]
  },
  {
   "cell_type": "code",
   "execution_count": 56,
   "metadata": {
    "collapsed": true
   },
   "outputs": [],
   "source": [
    "with open(os.path.join(PROCDIR, 'data_train_val_vae_18c.pkl'), 'wb') as f:\n",
    "    pickle.dump((data_masks_train, data_masks_val), f, protocol=4)"
   ]
  },
  {
   "cell_type": "code",
   "execution_count": null,
   "metadata": {
    "collapsed": true
   },
   "outputs": [],
   "source": []
  }
 ],
 "metadata": {
  "kernelspec": {
   "display_name": "Python 3",
   "language": "python",
   "name": "python3"
  },
  "language_info": {
   "codemirror_mode": {
    "name": "ipython",
    "version": 3
   },
   "file_extension": ".py",
   "mimetype": "text/x-python",
   "name": "python",
   "nbconvert_exporter": "python",
   "pygments_lexer": "ipython3",
   "version": "3.5.2"
  }
 },
 "nbformat": 4,
 "nbformat_minor": 0
}
