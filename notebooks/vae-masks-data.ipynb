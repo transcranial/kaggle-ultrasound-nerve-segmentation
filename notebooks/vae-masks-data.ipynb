{
 "cells": [
  {
   "cell_type": "code",
   "execution_count": 1,
   "metadata": {
    "collapsed": true
   },
   "outputs": [],
   "source": [
    "import os\n",
    "import numpy as np\n",
    "from skimage import io\n",
    "from matplotlib import pyplot as plt\n",
    "from scipy.misc import imresize\n",
    "from scipy import ndimage\n",
    "\n",
    "%matplotlib inline\n",
    "\n",
    "import random\n",
    "import csv\n",
    "import re\n",
    "import pickle\n",
    "import json\n",
    "from tqdm import tqdm\n",
    "\n",
    "DATADIR = os.path.expanduser('~/data/kaggle/ultrasound-nerve-segmentation')\n",
    "PROCDIR = os.path.expanduser('~/ml/kaggle/ultrasound-nerve-segmentation/processed')\n",
    "MODELDIR = os.path.expanduser('~/ml/kaggle/ultrasound-nerve-segmentation/models')"
   ]
  },
  {
   "cell_type": "code",
   "execution_count": 2,
   "metadata": {
    "collapsed": true
   },
   "outputs": [],
   "source": [
    "with open(os.path.join(PROCDIR, 'train_files_map.pkl'), 'rb') as f:\n",
    "    train_files_map = pickle.load(f)\n",
    "with open(os.path.join(PROCDIR, 'test_files_map.pkl'), 'rb') as f:\n",
    "    test_files_map = pickle.load(f)"
   ]
  },
  {
   "cell_type": "markdown",
   "metadata": {},
   "source": [
    "## create dataset"
   ]
  },
  {
   "cell_type": "code",
   "execution_count": 21,
   "metadata": {
    "collapsed": false
   },
   "outputs": [
    {
     "name": "stderr",
     "output_type": "stream",
     "text": [
      "  6%|▌         | 325/5635 [00:00<00:13, 394.31it/s]/home/leon/install/miniconda3/lib/python3.5/site-packages/skimage/external/tifffile/tifffile.py:1794: RuntimeWarning: py_decodelzw encountered unexpected end of stream\n",
      "  strip = decompress(strip)\n",
      "100%|██████████| 5635/5635 [00:11<00:00, 486.91it/s]"
     ]
    },
    {
     "name": "stdout",
     "output_type": "stream",
     "text": [
      "mask shapes: (2141, 96, 128) (182, 96, 128)\n"
     ]
    },
    {
     "name": "stderr",
     "output_type": "stream",
     "text": [
      "\n"
     ]
    }
   ],
   "source": [
    "orig_img_rows, orig_img_cols = 420, 580\n",
    "img_rows, img_cols = 96, 128\n",
    "img_channels = 1\n",
    "\n",
    "# 90/10 train/val split, by subject\n",
    "data_masks_train = []\n",
    "data_masks_val = []\n",
    "\n",
    "subjects = set([f['subject'] for f in train_files_map.values()])\n",
    "subjects_val = np.random.choice(list(subjects), int(len(subjects) * 0.1), replace=False)\n",
    "\n",
    "for file_info in tqdm(train_files_map.values()):\n",
    "    subject, img, folder, img_file, mask_file = (file_info['subject'], \n",
    "                                                 file_info['img'], \n",
    "                                                 file_info['folder'], \n",
    "                                                 file_info['img_file'], \n",
    "                                                 file_info['mask_file'])\n",
    "    mask_filepath = os.path.join(folder, mask_file)\n",
    "    mask = io.imread(mask_filepath) / 255.0\n",
    "    \n",
    "    if np.sum(mask) == 0:\n",
    "        continue\n",
    "        \n",
    "    mask_resized = imresize(mask, size=(img_rows, img_cols), interp='bilinear').astype(np.bool)\n",
    "    if subject in subjects_val:\n",
    "        data_masks_val.append(mask_resized)\n",
    "    else:\n",
    "        data_masks_train.append(mask_resized)\n",
    "\n",
    "data_masks_train = np.array(data_masks_train, dtype=np.bool)\n",
    "data_masks_val = np.array(data_masks_val, dtype=np.bool)\n",
    "\n",
    "print('mask shapes:', data_masks_train.shape, data_masks_val.shape)"
   ]
  },
  {
   "cell_type": "markdown",
   "metadata": {},
   "source": [
    "## augmentation"
   ]
  },
  {
   "cell_type": "code",
   "execution_count": 19,
   "metadata": {
    "collapsed": false
   },
   "outputs": [
    {
     "name": "stderr",
     "output_type": "stream",
     "text": [
      "100%|██████████| 2139/2139 [00:00<00:00, 2939.89it/s]"
     ]
    },
    {
     "name": "stdout",
     "output_type": "stream",
     "text": [
      "mask shapes: (6417, 96, 128) (184, 96, 128)\n"
     ]
    },
    {
     "name": "stderr",
     "output_type": "stream",
     "text": [
      "\n"
     ]
    }
   ],
   "source": [
    "multiplier = 2\n",
    "\n",
    "data_masks_train_augment = []\n",
    "for i in tqdm(range(data_masks_train.shape[0])):\n",
    "    data_masks_train_augment.append(data_masks_train[i])\n",
    "    for j in range(multiplier):\n",
    "        y_shift = random.randint(int(data_masks_train.shape[1] * -0.125), \n",
    "                                 int(data_masks_train.shape[1] * 0.125))\n",
    "        x_shift = random.randint(int(data_masks_train.shape[2] * -0.125), \n",
    "                                 int(data_masks_train.shape[2] * 0.125))\n",
    "        mask_aug = ndimage.interpolation.shift(data_masks_train[i], (y_shift, x_shift), order=0)\n",
    "        data_masks_train_augment.append(mask_aug)\n",
    "\n",
    "data_masks_train = np.array(data_masks_train_augment, dtype=np.bool)\n",
    "\n",
    "print('mask shapes:', data_masks_train.shape, data_masks_val.shape)"
   ]
  },
  {
   "cell_type": "markdown",
   "metadata": {},
   "source": [
    "## save"
   ]
  },
  {
   "cell_type": "code",
   "execution_count": 22,
   "metadata": {
    "collapsed": true
   },
   "outputs": [],
   "source": [
    "with open(os.path.join(PROCDIR, 'vae_masks_train_val_16.pkl'), 'wb') as f:\n",
    "    pickle.dump((data_masks_train[0:2093,:,:], data_masks_val), f, protocol=4)"
   ]
  },
  {
   "cell_type": "code",
   "execution_count": null,
   "metadata": {
    "collapsed": true
   },
   "outputs": [],
   "source": []
  }
 ],
 "metadata": {
  "kernelspec": {
   "display_name": "Python 3",
   "language": "python",
   "name": "python3"
  },
  "language_info": {
   "codemirror_mode": {
    "name": "ipython",
    "version": 3
   },
   "file_extension": ".py",
   "mimetype": "text/x-python",
   "name": "python",
   "nbconvert_exporter": "python",
   "pygments_lexer": "ipython3",
   "version": "3.5.1"
  }
 },
 "nbformat": 4,
 "nbformat_minor": 0
}
