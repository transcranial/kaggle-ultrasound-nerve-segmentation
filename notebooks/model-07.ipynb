{
 "cells": [
  {
   "cell_type": "code",
   "execution_count": 1,
   "metadata": {
    "collapsed": false
   },
   "outputs": [
    {
     "name": "stderr",
     "output_type": "stream",
     "text": [
      "Using TensorFlow backend.\n"
     ]
    }
   ],
   "source": [
    "import os\n",
    "import numpy as np\n",
    "from skimage import io\n",
    "from matplotlib import pyplot as plt\n",
    "from scipy.misc import imresize\n",
    "from scipy import ndimage\n",
    "\n",
    "%matplotlib inline\n",
    "\n",
    "import tensorflow as tf\n",
    "from keras.layers import Dense, Activation, Flatten, Lambda, BatchNormalization, Reshape, Dropout\n",
    "from keras.layers import Convolution2D, MaxPooling2D, AveragePooling2D, UpSampling2D, ZeroPadding2D\n",
    "from keras.engine import merge, Input, Model\n",
    "from keras.optimizers import SGD\n",
    "from keras.callbacks import Callback, LearningRateScheduler, ModelCheckpoint, EarlyStopping\n",
    "from keras.preprocessing.image import ImageDataGenerator\n",
    "from keras.utils import np_utils\n",
    "import keras.backend as K\n",
    "import time\n",
    "import random\n",
    "import pickle\n",
    "import json\n",
    "import csv\n",
    "from tqdm import tqdm\n",
    "from natsort import natsorted\n",
    "\n",
    "from sklearn.metrics import roc_auc_score, confusion_matrix, classification_report\n",
    "\n",
    "from helper import to_rle\n",
    "from segmentation import *\n",
    "from stochastic_depth_resnet import *\n",
    "from inception_v4 import *\n",
    "from inception_resnet_v2 import *\n",
    "\n",
    "DATADIR = os.path.expanduser('~/data/kaggle/ultrasound-nerve-segmentation')\n",
    "PROCDIR = os.path.expanduser('~/ml/kaggle/ultrasound-nerve-segmentation/processed')\n",
    "MODELDIR = os.path.expanduser('~/ml/kaggle/ultrasound-nerve-segmentation/models')\n",
    "SUBMITDIR = os.path.expanduser('~/ml/kaggle/ultrasound-nerve-segmentation/submissions')"
   ]
  },
  {
   "cell_type": "code",
   "execution_count": 48,
   "metadata": {
    "collapsed": true
   },
   "outputs": [],
   "source": [
    "WEIGHTS_PRESENCE_A_FILEPATH = os.path.join(MODELDIR, 'model-07a-presence-weights.hdf5')\n",
    "HISTORY_PRESENCE_A_FILEPATH = os.path.join(MODELDIR, 'model-07a-presence-training-history.json')\n",
    "WEIGHTS_PRESENCE_B_FILEPATH = os.path.join(MODELDIR, 'model-07b-presence-weights.hdf5')\n",
    "HISTORY_PRESENCE_B_FILEPATH = os.path.join(MODELDIR, 'model-07b-presence-training-history.json')\n",
    "WEIGHTS_PRESENCE_C_FILEPATH = os.path.join(MODELDIR, 'model-07c-presence-weights.hdf5')\n",
    "HISTORY_PRESENCE_C_FILEPATH = os.path.join(MODELDIR, 'model-07c-presence-training-history.json')\n",
    "\n",
    "WEIGHTS_SEGMENT_FILEPATH = os.path.join(MODELDIR, 'model-01-weights.hdf5')"
   ]
  },
  {
   "cell_type": "code",
   "execution_count": 3,
   "metadata": {
    "collapsed": true
   },
   "outputs": [],
   "source": [
    "with open(os.path.join(PROCDIR, 'train_files_map.pkl'), 'rb') as f:\n",
    "    train_files_map = pickle.load(f)\n",
    "with open(os.path.join(PROCDIR, 'test_files_map.pkl'), 'rb') as f:\n",
    "    test_files_map = pickle.load(f)"
   ]
  },
  {
   "cell_type": "code",
   "execution_count": 4,
   "metadata": {
    "collapsed": false
   },
   "outputs": [
    {
     "name": "stdout",
     "output_type": "stream",
     "text": [
      "image shapes: (16188, 64, 96, 1) (239, 64, 96, 1)\n",
      "presence label shapes: (16188,) (239,)\n",
      "mask shapes: (16188, 64, 96) (239, 64, 96)\n"
     ]
    }
   ],
   "source": [
    "with open(os.path.join(PROCDIR, 'data_train_val_07.pkl'), 'rb') as f:\n",
    "    (data_images_train, data_images_val, \n",
    "     data_presence_train, data_presence_val, \n",
    "     data_masks_train, data_masks_val) = pickle.load(f)\n",
    "\n",
    "print('image shapes:', data_images_train.shape, data_images_val.shape)\n",
    "print('presence label shapes:', data_presence_train.shape, data_presence_val.shape)\n",
    "print('mask shapes:', data_masks_train.shape, data_masks_val.shape)"
   ]
  },
  {
   "cell_type": "markdown",
   "metadata": {},
   "source": [
    "## presence model a"
   ]
  },
  {
   "cell_type": "code",
   "execution_count": 8,
   "metadata": {
    "collapsed": false
   },
   "outputs": [
    {
     "name": "stdout",
     "output_type": "stream",
     "text": [
      "model init time: 5.8447065353393555\n",
      "model compile time: 2.1409707069396973\n"
     ]
    }
   ],
   "source": [
    "with tf.device('/gpu:0'):\n",
    "    \n",
    "    start_time = time.time()\n",
    "\n",
    "    orig_img_rows, orig_img_cols = 420, 580\n",
    "    img_rows, img_cols = 64, 96\n",
    "    img_channels = 1\n",
    "\n",
    "    blocks_per_group = 3\n",
    "    nb_total_blocks = 5 * blocks_per_group\n",
    "    \n",
    "    images_presence_a = Input(shape=(img_rows, img_cols, img_channels))\n",
    "\n",
    "    x_a = Convolution2D(4, 3, 3, subsample=(1, 1),\n",
    "                        init='he_normal', border_mode='same', dim_ordering='tf')(images_presence_a)\n",
    "    x_a = BatchNormalization(axis=3)(x_a)\n",
    "    x_a = Activation('relu')(x_a)\n",
    "\n",
    "    for i in range(0, blocks_per_group):\n",
    "        nb_filters = 4\n",
    "        x_a = stochastic_depth_residual_block(x_a, nb_filters=nb_filters,\n",
    "                                              block=i, nb_total_blocks=nb_total_blocks,\n",
    "                                              subsample_factor=1)\n",
    "\n",
    "    for i in range(0, blocks_per_group):\n",
    "        nb_filters = 8\n",
    "        if i == 0:\n",
    "            subsample_factor = 2\n",
    "        else:\n",
    "            subsample_factor = 1\n",
    "        x_a = stochastic_depth_residual_block(x_a, nb_filters=nb_filters,\n",
    "                                              block=blocks_per_group + i, nb_total_blocks=nb_total_blocks,\n",
    "                                              subsample_factor=subsample_factor)\n",
    "\n",
    "    for i in range(0, blocks_per_group):\n",
    "        nb_filters = 16\n",
    "        if i == 0:\n",
    "            subsample_factor = 2\n",
    "        else:\n",
    "            subsample_factor = 1\n",
    "        x_a = stochastic_depth_residual_block(x_a, nb_filters=nb_filters,\n",
    "                                              block=2 * blocks_per_group + i, nb_total_blocks=nb_total_blocks,\n",
    "                                              subsample_factor=subsample_factor)\n",
    "\n",
    "    for i in range(0, blocks_per_group):\n",
    "        nb_filters = 32\n",
    "        if i == 0:\n",
    "            subsample_factor = 2\n",
    "        else:\n",
    "            subsample_factor = 1\n",
    "        x_a = stochastic_depth_residual_block(x_a, nb_filters=nb_filters,\n",
    "                                              block=3 * blocks_per_group + i, nb_total_blocks=nb_total_blocks,\n",
    "                                              subsample_factor=subsample_factor)\n",
    "\n",
    "    for i in range(0, blocks_per_group):\n",
    "        nb_filters = 64\n",
    "        if i == 0:\n",
    "            subsample_factor = 2\n",
    "        else:\n",
    "            subsample_factor = 1\n",
    "        x_a = stochastic_depth_residual_block(x_a, nb_filters=nb_filters,\n",
    "                                              block=4 * blocks_per_group + i, nb_total_blocks=nb_total_blocks,\n",
    "                                              subsample_factor=subsample_factor)\n",
    "\n",
    "    x_a = AveragePooling2D(pool_size=(4, 6), strides=None, border_mode='valid', dim_ordering='tf')(x_a)\n",
    "    x_a = Dropout(0.5)(x_a)\n",
    "    x_a = Flatten()(x_a)\n",
    "    presence_a = Dense(1, activation='sigmoid')(x_a)\n",
    "\n",
    "    model_presence_a = Model(input=images_presence_a, output=presence_a)\n",
    "\n",
    "    print('model init time: {}'.format(time.time() - start_time))\n",
    "\n",
    "    start_time = time.time()\n",
    "\n",
    "    model_presence_a.compile(optimizer='adam', loss='binary_crossentropy', metrics=['accuracy'])\n",
    "\n",
    "    print('model compile time: {}'.format(time.time() - start_time))"
   ]
  },
  {
   "cell_type": "markdown",
   "metadata": {},
   "source": [
    "## presence model a train"
   ]
  },
  {
   "cell_type": "code",
   "execution_count": 10,
   "metadata": {
    "collapsed": false
   },
   "outputs": [
    {
     "name": "stdout",
     "output_type": "stream",
     "text": [
      "Train on 16188 samples, validate on 239 samples\n",
      "Epoch 1/3\n",
      "16188/16188 [==============================] - 27s - loss: 0.8277 - acc: 0.5471 - val_loss: 1.5988 - val_acc: 0.3975\n",
      "Epoch 2/3\n",
      "16188/16188 [==============================] - 25s - loss: 0.6601 - acc: 0.6029 - val_loss: 0.5436 - val_acc: 0.7741\n",
      "Epoch 3/3\n",
      "16188/16188 [==============================] - 26s - loss: 0.6314 - acc: 0.6394 - val_loss: 0.4669 - val_acc: 0.8368\n"
     ]
    }
   ],
   "source": [
    "with tf.device('/gpu:0'):\n",
    "    batch_size = 256\n",
    "    nb_epoch = 3\n",
    "    history = model_presence_a.fit(data_images_train, data_presence_train,\n",
    "                                   batch_size=batch_size, nb_epoch=nb_epoch, verbose=1,\n",
    "                                   validation_data=(data_images_val, data_presence_val), shuffle=True,\n",
    "                                   callbacks=[])"
   ]
  },
  {
   "cell_type": "markdown",
   "metadata": {},
   "source": [
    "## presence model b"
   ]
  },
  {
   "cell_type": "code",
   "execution_count": 5,
   "metadata": {
    "collapsed": false
   },
   "outputs": [
    {
     "name": "stdout",
     "output_type": "stream",
     "text": [
      "model init time: 2.7817342281341553\n",
      "model compile time: 0.6714768409729004\n"
     ]
    }
   ],
   "source": [
    "with tf.device('/gpu:0'):\n",
    "    \n",
    "    start_time = time.time()\n",
    "\n",
    "    orig_img_rows, orig_img_cols = 420, 580\n",
    "    img_rows, img_cols = 64, 96\n",
    "    img_channels = 1\n",
    "\n",
    "    nb_filters_reduction_factor = 8\n",
    "    \n",
    "    # in original inception-v4, these are 4, 7, 3, respectively\n",
    "    num_A_blocks = 1\n",
    "    num_B_blocks = 2\n",
    "    num_C_blocks = 1\n",
    "    \n",
    "    images_presence_b = Input(shape=(img_rows, img_cols, img_channels))\n",
    "\n",
    "    x_b = inception_v4_stem(images_presence_b, nb_filters_reduction_factor=nb_filters_reduction_factor)\n",
    "    for i in range(num_A_blocks):\n",
    "        x_b = inception_v4_A(x_b, nb_filters_reduction_factor=nb_filters_reduction_factor)\n",
    "    x_b = inception_v4_reduction_A(x_b, nb_filters_reduction_factor=nb_filters_reduction_factor)\n",
    "    for i in range(num_B_blocks):\n",
    "        x_b = inception_v4_B(x_b, nb_filters_reduction_factor=nb_filters_reduction_factor)\n",
    "    x_b = inception_v4_reduction_B(x_b, nb_filters_reduction_factor=nb_filters_reduction_factor)\n",
    "    for i in range(num_C_blocks):\n",
    "        x_b = inception_v4_C(x_b, nb_filters_reduction_factor=nb_filters_reduction_factor)\n",
    "\n",
    "    x_b = AveragePooling2D(pool_size=(4, 6), strides=(1, 1), border_mode='valid', dim_ordering='tf')(x_b)\n",
    "    x_b = Dropout(0.5)(x_b)\n",
    "    x_b = Flatten()(x_b)\n",
    "    presence_b = Dense(1, activation='sigmoid')(x_b)\n",
    "\n",
    "    model_presence_b = Model(input=images_presence_b, output=presence_b)\n",
    "\n",
    "    print('model init time: {}'.format(time.time() - start_time))\n",
    "\n",
    "    start_time = time.time()\n",
    "\n",
    "    model_presence_b.compile(optimizer='adam', loss='binary_crossentropy', metrics=['accuracy'])\n",
    "\n",
    "    print('model compile time: {}'.format(time.time() - start_time))"
   ]
  },
  {
   "cell_type": "markdown",
   "metadata": {},
   "source": [
    "## presence model b train"
   ]
  },
  {
   "cell_type": "code",
   "execution_count": 8,
   "metadata": {
    "collapsed": false
   },
   "outputs": [
    {
     "name": "stdout",
     "output_type": "stream",
     "text": [
      "Train on 16188 samples, validate on 239 samples\n",
      "Epoch 1/3\n",
      "16188/16188 [==============================] - 78s - loss: 0.6760 - acc: 0.5951 - val_loss: 0.7355 - val_acc: 0.3975\n",
      "Epoch 2/3\n",
      "16188/16188 [==============================] - 78s - loss: 0.6725 - acc: 0.5961 - val_loss: 0.7089 - val_acc: 0.3975\n",
      "Epoch 3/3\n",
      "16188/16188 [==============================] - 77s - loss: 0.6338 - acc: 0.6441 - val_loss: 0.5489 - val_acc: 0.7155\n"
     ]
    }
   ],
   "source": [
    "with tf.device('/gpu:0'):\n",
    "    batch_size = 256\n",
    "    nb_epoch = 3\n",
    "    history = model_presence_b.fit(data_images_train, data_presence_train,\n",
    "                                   batch_size=batch_size, nb_epoch=nb_epoch, verbose=1,\n",
    "                                   validation_data=(data_images_val, data_presence_val), shuffle=True,\n",
    "                                   callbacks=[])"
   ]
  },
  {
   "cell_type": "markdown",
   "metadata": {},
   "source": [
    "## presence model c"
   ]
  },
  {
   "cell_type": "code",
   "execution_count": 5,
   "metadata": {
    "collapsed": false
   },
   "outputs": [
    {
     "name": "stdout",
     "output_type": "stream",
     "text": [
      "model init time: 2.50315260887146\n",
      "model compile time: 0.37612199783325195\n"
     ]
    }
   ],
   "source": [
    "with tf.device('/gpu:0'):\n",
    "    \n",
    "    start_time = time.time()\n",
    "\n",
    "    orig_img_rows, orig_img_cols = 420, 580\n",
    "    img_rows, img_cols = 64, 96\n",
    "    img_channels = 1\n",
    "\n",
    "    nb_filters_reduction_factor = 8\n",
    "    \n",
    "    # in original inception-resnet-v2, these are 5, 10, 5, respectively\n",
    "    num_A_blocks = 1\n",
    "    num_B_blocks = 2\n",
    "    num_C_blocks = 1\n",
    "    \n",
    "    images_presence = Input(shape=(img_rows, img_cols, img_channels))\n",
    "\n",
    "    x = inception_resnet_v2_stem(images_presence, nb_filters_reduction_factor=nb_filters_reduction_factor)\n",
    "    for i in range(num_A_blocks):\n",
    "        x = inception_resnet_v2_A(x, nb_filters_reduction_factor=nb_filters_reduction_factor)\n",
    "    x = inception_resnet_v2_reduction_A(x, nb_filters_reduction_factor=nb_filters_reduction_factor)\n",
    "    for i in range(num_B_blocks):\n",
    "        x = inception_resnet_v2_B(x, nb_filters_reduction_factor=nb_filters_reduction_factor)\n",
    "    x = inception_resnet_v2_reduction_B(x, nb_filters_reduction_factor=nb_filters_reduction_factor)\n",
    "    for i in range(num_C_blocks):\n",
    "        x = inception_resnet_v2_C(x, nb_filters_reduction_factor=nb_filters_reduction_factor)\n",
    "\n",
    "    x = AveragePooling2D(pool_size=(4, 6), strides=(1, 1), border_mode='valid', dim_ordering='tf')(x)\n",
    "    x = Dropout(0.5)(x)\n",
    "    x = Flatten()(x)\n",
    "    presence = Dense(1, activation='sigmoid')(x)\n",
    "\n",
    "    model_presence_c = Model(input=images_presence, output=presence)\n",
    "\n",
    "    print('model init time: {}'.format(time.time() - start_time))\n",
    "\n",
    "    start_time = time.time()\n",
    "\n",
    "    model_presence_c.compile(optimizer='adam', loss='binary_crossentropy', metrics=['accuracy'])\n",
    "\n",
    "    print('model compile time: {}'.format(time.time() - start_time))"
   ]
  },
  {
   "cell_type": "markdown",
   "metadata": {},
   "source": [
    "## presence model c train"
   ]
  },
  {
   "cell_type": "code",
   "execution_count": 7,
   "metadata": {
    "collapsed": false
   },
   "outputs": [
    {
     "name": "stdout",
     "output_type": "stream",
     "text": [
      "Train on 16188 samples, validate on 239 samples\n",
      "Epoch 1/3\n",
      "16188/16188 [==============================] - 69s - loss: 1.7907 - acc: 0.5640 - val_loss: 0.7320 - val_acc: 0.3975\n",
      "Epoch 2/3\n",
      "16188/16188 [==============================] - 69s - loss: 0.6655 - acc: 0.6030 - val_loss: 0.6802 - val_acc: 0.4854\n",
      "Epoch 3/3\n",
      "16188/16188 [==============================] - 69s - loss: 0.6139 - acc: 0.6647 - val_loss: 0.5215 - val_acc: 0.8033\n"
     ]
    }
   ],
   "source": [
    "with tf.device('/gpu:0'):\n",
    "    batch_size = 256\n",
    "    nb_epoch = 3\n",
    "    history = model_presence_c.fit(data_images_train, data_presence_train,\n",
    "                                   batch_size=batch_size, nb_epoch=nb_epoch, verbose=1,\n",
    "                                   validation_data=(data_images_val, data_presence_val), shuffle=True,\n",
    "                                   callbacks=[])"
   ]
  },
  {
   "cell_type": "markdown",
   "metadata": {},
   "source": [
    "## segmentation model a"
   ]
  },
  {
   "cell_type": "code",
   "execution_count": 45,
   "metadata": {
    "collapsed": false
   },
   "outputs": [
    {
     "name": "stdout",
     "output_type": "stream",
     "text": [
      "model init time: 59.87167453765869\n",
      "model compile time: 4.457046747207642\n"
     ]
    }
   ],
   "source": [
    "with tf.device('/gpu:1'):\n",
    "    \n",
    "    start_time = time.time()\n",
    "\n",
    "    orig_img_rows, orig_img_cols = 420, 580\n",
    "    img_rows_segment, img_cols_segment = 128, 192\n",
    "    img_channels = 1\n",
    "\n",
    "    blocks_per_group = 4\n",
    "    nb_total_blocks = 5 * blocks_per_group\n",
    "\n",
    "    images_segment = Input(shape=(img_rows_segment, img_cols_segment, img_channels))\n",
    "\n",
    "    x = Convolution2D(8, 3, 3, subsample=(1, 1),\n",
    "                      init='he_normal', border_mode='same', dim_ordering='tf')(images_segment)\n",
    "    x = BatchNormalization(axis=3)(x)\n",
    "    x = Activation('relu')(x)\n",
    "\n",
    "    for i in range(0, blocks_per_group):\n",
    "        nb_filters = 8\n",
    "        x = stochastic_depth_residual_block(x, nb_filters=nb_filters,\n",
    "                                            block=i, nb_total_blocks=nb_total_blocks,\n",
    "                                            subsample_factor=1)\n",
    "\n",
    "    for i in range(0, blocks_per_group):\n",
    "        nb_filters = 16\n",
    "        if i == 0:\n",
    "            subsample_factor = 2\n",
    "        else:\n",
    "            subsample_factor = 1\n",
    "        x = stochastic_depth_residual_block(x, nb_filters=nb_filters,\n",
    "                                            block=blocks_per_group + i, nb_total_blocks=nb_total_blocks,\n",
    "                                            subsample_factor=subsample_factor)\n",
    "\n",
    "    f2 = x\n",
    "    f2 = UpSampling2D(size=(2, 2), dim_ordering='tf')(f2)\n",
    "    f2 = Convolution2D(8, 3, 3, init='he_uniform', border_mode='same', activation='relu', dim_ordering='tf')(f2)\n",
    "\n",
    "    for i in range(0, blocks_per_group):\n",
    "        nb_filters = 32\n",
    "        if i == 0:\n",
    "            subsample_factor = 2\n",
    "        else:\n",
    "            subsample_factor = 1\n",
    "        x = stochastic_depth_residual_block(x, nb_filters=nb_filters,\n",
    "                                            block=2 * blocks_per_group + i, nb_total_blocks=nb_total_blocks,\n",
    "                                            subsample_factor=subsample_factor)\n",
    "\n",
    "    f4 = x\n",
    "    f4 = UpSampling2D(size=(4, 4), dim_ordering='tf')(f4)\n",
    "    f4 = Convolution2D(8, 3, 3, init='he_uniform', border_mode='same', activation='relu', dim_ordering='tf')(f4)\n",
    "\n",
    "    for i in range(0, blocks_per_group):\n",
    "        nb_filters = 64\n",
    "        if i == 0:\n",
    "            subsample_factor = 2\n",
    "        else:\n",
    "            subsample_factor = 1\n",
    "        x = stochastic_depth_residual_block(x, nb_filters=nb_filters,\n",
    "                                            block=3 * blocks_per_group + i, nb_total_blocks=nb_total_blocks,\n",
    "                                            subsample_factor=subsample_factor)\n",
    "\n",
    "    f8 = x\n",
    "    f8 = UpSampling2D(size=(8, 8), dim_ordering='tf')(f8)\n",
    "    f8 = Convolution2D(8, 3, 3, init='he_uniform', border_mode='same', activation='relu', dim_ordering='tf')(f8)\n",
    "\n",
    "    for i in range(0, blocks_per_group):\n",
    "        nb_filters = 64\n",
    "        if i == 0:\n",
    "            subsample_factor = 2\n",
    "        else:\n",
    "            subsample_factor = 1\n",
    "        x = stochastic_depth_residual_block(x, nb_filters=nb_filters,\n",
    "                                            block=4 * blocks_per_group + i, nb_total_blocks=nb_total_blocks,\n",
    "                                            subsample_factor=subsample_factor)\n",
    "\n",
    "    f16 = x\n",
    "    f16 = UpSampling2D(size=(16, 16), dim_ordering='tf')(f16)\n",
    "    f16 = Convolution2D(8, 3, 3, init='he_uniform', border_mode='same', activation='relu', dim_ordering='tf')(f16)\n",
    "\n",
    "    segmentation = merge([f16, f8, f4, f2], mode='concat', concat_axis=-1)\n",
    "    segmentation = Convolution2D(1, 1, 1,\n",
    "                                 activation='sigmoid',\n",
    "                                 init='uniform', border_mode='same', dim_ordering='tf')(segmentation)\n",
    "    segmentation = Reshape((img_rows_segment, img_cols_segment))(segmentation)\n",
    "\n",
    "    model_segment = Model(input=images_segment, output=segmentation)\n",
    "\n",
    "    print('model init time: {}'.format(time.time() - start_time))\n",
    "\n",
    "    start_time = time.time()\n",
    "\n",
    "    model_segment.compile(optimizer='adam', loss=binaryCE, metrics=[dice_coeff])\n",
    "\n",
    "    print('model compile time: {}'.format(time.time() - start_time))"
   ]
  },
  {
   "cell_type": "markdown",
   "metadata": {},
   "source": [
    "## segmentation model a train"
   ]
  },
  {
   "cell_type": "code",
   "execution_count": 10,
   "metadata": {
    "collapsed": false
   },
   "outputs": [
    {
     "name": "stdout",
     "output_type": "stream",
     "text": [
      "Train on 16188 samples, validate on 239 samples\n",
      "Epoch 1/3\n",
      "16188/16188 [==============================] - 42s - loss: 0.1342 - dice_coeff: 0.0126 - val_loss: 0.0592 - val_dice_coeff: 0.2212\n",
      "Epoch 2/3\n",
      "16188/16188 [==============================] - 42s - loss: 0.0472 - dice_coeff: 0.1985 - val_loss: 0.0443 - val_dice_coeff: 0.4655\n",
      "Epoch 3/3\n",
      "16188/16188 [==============================] - 42s - loss: 0.0417 - dice_coeff: 0.3191 - val_loss: 0.0381 - val_dice_coeff: 0.6023\n"
     ]
    }
   ],
   "source": [
    "with tf.device('/gpu:1'):\n",
    "    batch_size = 128\n",
    "    nb_epoch = 3\n",
    "    history = model_segment.fit(data_images_train, data_masks_train,\n",
    "                                  batch_size=batch_size, nb_epoch=nb_epoch, verbose=1,\n",
    "                                  validation_data=(data_images_val, data_masks_val), shuffle=True,\n",
    "                                  callbacks=[])"
   ]
  },
  {
   "cell_type": "markdown",
   "metadata": {},
   "source": [
    "## test"
   ]
  },
  {
   "cell_type": "code",
   "execution_count": 46,
   "metadata": {
    "collapsed": false
   },
   "outputs": [
    {
     "name": "stdout",
     "output_type": "stream",
     "text": [
      "image shapes: (5155, 128, 192, 1) (480, 128, 192, 1)\n",
      "presence label shapes: (5155,) (480,)\n",
      "mask shapes: (5155, 128, 192) (480, 128, 192)\n"
     ]
    }
   ],
   "source": [
    "with open(os.path.join(PROCDIR, 'data_train_val_01.pkl'), 'rb') as f:\n",
    "    data_images_train, data_masks_train, data_images_val, data_masks_val = pickle.load(f)\n",
    "    \n",
    "data_presence_train = np.sum(data_masks_train, axis=(-2, -1)) != 0\n",
    "data_presence_val = np.sum(data_masks_val, axis=(-2, -1)) != 0\n",
    "\n",
    "print('image shapes:', data_images_train.shape, data_images_val.shape)\n",
    "print('presence label shapes:', data_presence_train.shape, data_presence_val.shape)\n",
    "print('mask shapes:', data_masks_train.shape, data_masks_val.shape)"
   ]
  },
  {
   "cell_type": "code",
   "execution_count": 9,
   "metadata": {
    "collapsed": true
   },
   "outputs": [],
   "source": [
    "with tf.device('/gpu:0'):\n",
    "    model_presence_a.load_weights(WEIGHTS_PRESENCE_A_FILEPATH)\n",
    "    model_presence_b.load_weights(WEIGHTS_PRESENCE_B_FILEPATH)\n",
    "    #model_presence_c.load_weights(WEIGHTS_PRESENCE_C_FILEPATH)"
   ]
  },
  {
   "cell_type": "code",
   "execution_count": 49,
   "metadata": {
    "collapsed": false
   },
   "outputs": [],
   "source": [
    "with tf.device('/gpu:1'):\n",
    "    model_segment.load_weights(WEIGHTS_SEGMENT_FILEPATH)"
   ]
  },
  {
   "cell_type": "code",
   "execution_count": 55,
   "metadata": {
    "collapsed": false
   },
   "outputs": [
    {
     "data": {
      "text/plain": [
       "(128, 192, 1)"
      ]
     },
     "execution_count": 55,
     "metadata": {},
     "output_type": "execute_result"
    }
   ],
   "source": [
    "image.shape"
   ]
  },
  {
   "cell_type": "code",
   "execution_count": 71,
   "metadata": {
    "collapsed": false
   },
   "outputs": [
    {
     "name": "stdout",
     "output_type": "stream",
     "text": [
      "presence prediction a:  [ 0.53293562] [ True]\n",
      "presence prediction b:  [ 0.95686942] [ True]\n",
      "presence prediction (combined):  0.744902521372 True\n"
     ]
    },
    {
     "data": {
      "text/plain": [
       "<matplotlib.image.AxesImage at 0x7f99c2e38eb8>"
      ]
     },
     "execution_count": 71,
     "metadata": {},
     "output_type": "execute_result"
    },
    {
     "data": {
      "image/png": "[encoded data removed]",
      "text/plain": [
       "<matplotlib.figure.Figure at 0x7f99c2f521d0>"
      ]
     },
     "metadata": {},
     "output_type": "display_data"
    }
   ],
   "source": [
    "rand_i = random.randint(0, data_images_val.shape[0] - 1)\n",
    "\n",
    "image = data_images_val[rand_i:rand_i+1]\n",
    "image_resized = np.expand_dims(np.expand_dims(imresize(image[0,:,:,0], size=(img_rows, img_cols), interp='bilinear'), axis=0), axis=3)\n",
    "mask = data_masks_val[rand_i, :, :]\n",
    "\n",
    "presence_a = model_presence_a.predict(image_resized, verbose=0)[0]\n",
    "presence_b = model_presence_b.predict(image_resized, verbose=0)[0]\n",
    "print('presence prediction a: ', presence_a, presence_a > 0.5)\n",
    "print('presence prediction b: ', presence_b, presence_b > 0.5)\n",
    "presence = np.mean([presence_a, presence_b])\n",
    "print('presence prediction (combined): ', presence, presence > 0.5)\n",
    "\n",
    "plt.figure(figsize=(15,5))\n",
    "plt.subplot(1,3,1)\n",
    "plt.imshow(image[0,:,:,0], cmap=plt.cm.viridis)\n",
    "plt.subplot(1,3,2)\n",
    "plt.title('mask pred')\n",
    "plt.imshow(model_segment.predict(image, verbose=0)[0, :, :] > 0.5, cmap=plt.cm.bone)\n",
    "plt.subplot(1,3,3)\n",
    "plt.title('mask true')\n",
    "plt.imshow(mask, cmap=plt.cm.bone)"
   ]
  },
  {
   "cell_type": "code",
   "execution_count": 73,
   "metadata": {
    "collapsed": false
   },
   "outputs": [
    {
     "name": "stdout",
     "output_type": "stream",
     "text": [
      "presence model a\n",
      "confusion matrix:\n",
      " [[234  46]\n",
      " [ 32 168]] \n",
      "\n",
      "ROC AUC:  0.877678571429 \n",
      "\n",
      "                precision    recall  f1-score   support\n",
      "\n",
      "BP not present       0.88      0.84      0.86       280\n",
      "    BP present       0.79      0.84      0.81       200\n",
      "\n",
      "   avg / total       0.84      0.84      0.84       480\n",
      " \n",
      "\n",
      "presence model b\n",
      "confusion matrix:\n",
      " [[234  46]\n",
      " [ 26 174]] \n",
      "\n",
      "ROC AUC:  0.913410714286 \n",
      "\n",
      "                precision    recall  f1-score   support\n",
      "\n",
      "BP not present       0.90      0.84      0.87       280\n",
      "    BP present       0.79      0.87      0.83       200\n",
      "\n",
      "   avg / total       0.85      0.85      0.85       480\n",
      " \n",
      "\n",
      "presence model (combined)\n",
      "confusion matrix:\n",
      " [[233  47]\n",
      " [ 31 169]] \n",
      "\n",
      "ROC AUC:  0.906892857143 \n",
      "\n",
      "                precision    recall  f1-score   support\n",
      "\n",
      "BP not present       0.88      0.83      0.86       280\n",
      "    BP present       0.78      0.84      0.81       200\n",
      "\n",
      "   avg / total       0.84      0.84      0.84       480\n",
      " \n",
      "\n"
     ]
    }
   ],
   "source": [
    "# presence classification metrics\n",
    "images_resized = []\n",
    "for i in range(data_images_val.shape[0]):\n",
    "    images_resized.append(np.expand_dims(imresize(data_images_val[i,:,:,0], size=(img_rows, img_cols), interp='bilinear'), axis=2))\n",
    "images_resized = np.array(images_resized, dtype=np.float32)\n",
    "presence_a = model_presence_a.predict(images_resized, verbose=0)\n",
    "presence_b = model_presence_b.predict(images_resized, verbose=0)\n",
    "print('presence model a')\n",
    "print('confusion matrix:\\n', confusion_matrix(data_presence_val, presence_a > 0.5), '\\n')\n",
    "print('ROC AUC: ', roc_auc_score(data_presence_val, presence_a), '\\n')\n",
    "print(classification_report(data_presence_val, presence_a > 0.5, target_names=['BP not present', 'BP present']), '\\n')\n",
    "print('presence model b')\n",
    "print('confusion matrix:\\n', confusion_matrix(data_presence_val, presence_b > 0.5), '\\n')\n",
    "print('ROC AUC: ', roc_auc_score(data_presence_val, presence_b), '\\n')\n",
    "print(classification_report(data_presence_val, presence_b > 0.5, target_names=['BP not present', 'BP present']), '\\n')\n",
    "print('presence model (combined)')\n",
    "presence = (presence_a + presence_b) / 2\n",
    "print('confusion matrix:\\n', confusion_matrix(data_presence_val, presence > 0.5), '\\n')\n",
    "print('ROC AUC: ', roc_auc_score(data_presence_val, presence), '\\n')\n",
    "print(classification_report(data_presence_val, presence > 0.5, target_names=['BP not present', 'BP present']), '\\n')"
   ]
  },
  {
   "cell_type": "code",
   "execution_count": 74,
   "metadata": {
    "collapsed": false
   },
   "outputs": [
    {
     "data": {
      "text/plain": [
       "0.62895139489265706"
      ]
     },
     "execution_count": 74,
     "metadata": {},
     "output_type": "execute_result"
    }
   ],
   "source": [
    "preds_segment = model_segment.predict(data_images_val, verbose=0)\n",
    "np.mean(2 * np.sum(data_masks_val * preds_segment>0.5) / (np.sum(data_masks_val) + np.sum(preds_segment>0.5) + 1e-6), axis=None)"
   ]
  },
  {
   "cell_type": "code",
   "execution_count": 90,
   "metadata": {
    "collapsed": false
   },
   "outputs": [
    {
     "data": {
      "text/plain": [
       "0.65402512000880109"
      ]
     },
     "execution_count": 90,
     "metadata": {},
     "output_type": "execute_result"
    }
   ],
   "source": [
    "images_resized = []\n",
    "for i in range(data_images_val.shape[0]):\n",
    "    images_resized.append(np.expand_dims(imresize(data_images_val[i,:,:,0], size=(img_rows, img_cols), interp='bilinear'), axis=2))\n",
    "images_resized = np.array(images_resized, dtype=np.float32)\n",
    "preds_presence_a = model_presence_a.predict(images_resized, verbose=0)\n",
    "preds_presence_b = model_presence_b.predict(images_resized, verbose=0)\n",
    "preds_presence = (preds_presence_a + preds_presence_b) / 2\n",
    "preds_segment = model_segment.predict(data_images_val, verbose=0)\n",
    "preds_mod = []\n",
    "for i in range(preds_segment.shape[0]):\n",
    "    if preds_presence[i] < 0.1:\n",
    "        preds_mod.append(preds_segment[i,:,:]>0.9)\n",
    "    elif preds_presence[i] > 0.7:\n",
    "        preds_mod.append(preds_segment[i,:,:]>0.3)\n",
    "    else:\n",
    "        preds_mod.append(preds_segment[i,:,:]>0.5)\n",
    "np.mean(2 * np.sum(data_masks_val * preds_mod) / (np.sum(data_masks_val) + np.sum(preds_mod) + 1e-6), axis=None)"
   ]
  },
  {
   "cell_type": "code",
   "execution_count": null,
   "metadata": {
    "collapsed": false
   },
   "outputs": [
    {
     "name": "stderr",
     "output_type": "stream",
     "text": [
      "  5%|▌         | 280/5508 [00:27<09:30,  9.17it/s]"
     ]
    }
   ],
   "source": [
    "with open(os.path.join(SUBMITDIR, 'model-07.csv'), 'w') as f:\n",
    "    writer = csv.writer(f)\n",
    "    writer.writerow(['img', 'pixels'])\n",
    "\n",
    "    for key in tqdm(natsorted(list(test_files_map.keys()))):\n",
    "        file_info = test_files_map[key]\n",
    "        img, folder, img_file = file_info['img'], file_info['folder'], file_info['img_file']\n",
    "        img_filepath = os.path.join(folder, img_file)\n",
    "        image = io.imread(img_filepath) / 255.0\n",
    "        image_resized_presence = np.expand_dims(imresize(image, size=(img_rows, img_cols), interp='bilinear'), axis=3)\n",
    "        image_resized_segment = np.expand_dims(imresize(image, size=(img_rows_segment, img_cols_segment), interp='bilinear'), axis=3)\n",
    "        presence_a = model_presence_a.predict(np.array([image_resized_presence], dtype=np.float32), verbose=0)[0]\n",
    "        presence_b = model_presence_b.predict(np.array([image_resized_presence], dtype=np.float32), verbose=0)[0]\n",
    "        presence = (presence_a + presence_b) / 2\n",
    "        mask_pred = model_segment.predict(np.array([image_resized_segment], dtype=np.float32), verbose=0)\n",
    "        if presence < 0.1:\n",
    "            mask_pred = mask_pred[0, :, :] > 0.9\n",
    "        elif presence > 0.7:\n",
    "            mask_pred = mask_pred[0, :, :] > 0.3\n",
    "        else:\n",
    "            mask_pred = mask_pred[0, :, :] > 0.5\n",
    "        mask_pred_orig_size = imresize(mask_pred, size=(orig_img_rows, orig_img_cols), interp='bilinear').astype(np.bool)\n",
    "        rle = to_rle(mask_pred_orig_size)\n",
    "        writer.writerow([img, rle])"
   ]
  },
  {
   "cell_type": "code",
   "execution_count": null,
   "metadata": {
    "collapsed": true
   },
   "outputs": [],
   "source": []
  }
 ],
 "metadata": {
  "kernelspec": {
   "display_name": "Python 3",
   "language": "python",
   "name": "python3"
  },
  "language_info": {
   "codemirror_mode": {
    "name": "ipython",
    "version": 3
   },
   "file_extension": ".py",
   "mimetype": "text/x-python",
   "name": "python",
   "nbconvert_exporter": "python",
   "pygments_lexer": "ipython3",
   "version": "3.5.1"
  }
 },
 "nbformat": 4,
 "nbformat_minor": 0
}
