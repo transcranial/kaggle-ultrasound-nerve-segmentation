{
 "cells": [
  {
   "cell_type": "code",
   "execution_count": 1,
   "metadata": {
    "collapsed": true
   },
   "outputs": [],
   "source": [
    "import os\n",
    "import numpy as np\n",
    "from skimage import io\n",
    "from matplotlib import pyplot as plt\n",
    "from scipy.misc import imresize\n",
    "from scipy import ndimage\n",
    "\n",
    "%matplotlib inline\n",
    "\n",
    "import random\n",
    "import csv\n",
    "import re\n",
    "import pickle\n",
    "import json\n",
    "from tqdm import tqdm\n",
    "from natsort import natsorted\n",
    "\n",
    "DATADIR = os.path.expanduser('~/data/kaggle/ultrasound-nerve-segmentation')\n",
    "PROCDIR = os.path.expanduser('~/ml/kaggle/ultrasound-nerve-segmentation/processed')\n",
    "MODELDIR = os.path.expanduser('~/ml/kaggle/ultrasound-nerve-segmentation/models')"
   ]
  },
  {
   "cell_type": "code",
   "execution_count": 2,
   "metadata": {
    "collapsed": true
   },
   "outputs": [],
   "source": [
    "with open(os.path.join(PROCDIR, 'train_files_map.pkl'), 'rb') as f:\n",
    "    train_files_map = pickle.load(f)\n",
    "with open(os.path.join(PROCDIR, 'test_files_map.pkl'), 'rb') as f:\n",
    "    test_files_map = pickle.load(f)\n",
    "with open(os.path.join(PROCDIR, 'conflicting_17.pkl'), 'rb') as f:\n",
    "    conflicting = pickle.load(f)\n",
    "    \n",
    "keys_sorted = natsorted(list(train_files_map.keys()))"
   ]
  },
  {
   "cell_type": "markdown",
   "metadata": {},
   "source": [
    "## presence dataset"
   ]
  },
  {
   "cell_type": "code",
   "execution_count": 29,
   "metadata": {
    "collapsed": false
   },
   "outputs": [
    {
     "name": "stderr",
     "output_type": "stream",
     "text": [
      " 16%|█▌        | 180/1154 [00:00<00:04, 238.31it/s]/home/leon/install/miniconda3/lib/python3.5/site-packages/skimage/external/tifffile/tifffile.py:1794: RuntimeWarning: py_decodelzw encountered unexpected end of stream\n",
      "  strip = decompress(strip)\n",
      "100%|██████████| 1154/1154 [00:04<00:00, 234.73it/s]\n"
     ]
    }
   ],
   "source": [
    "# for images with no mask present, we apply the average mask of conflicting images\n",
    "conflicting_masks = {}\n",
    "for i in tqdm(conflicting.keys()):\n",
    "    masks = []\n",
    "    for j in conflicting[i]:\n",
    "        file_info = train_files_map[keys_sorted[j]]\n",
    "        mask = io.imread(os.path.join(file_info['folder'], file_info['mask_file']))\n",
    "        masks.append(mask)\n",
    "    masks = np.array(masks, dtype='float')\n",
    "    conflicting_mask = np.mean(masks, axis=0) > 0.5\n",
    "    conflicting_masks[i] = conflicting_mask"
   ]
  },
  {
   "cell_type": "code",
   "execution_count": 30,
   "metadata": {
    "collapsed": false
   },
   "outputs": [
    {
     "name": "stderr",
     "output_type": "stream",
     "text": [
      "  1%|          | 42/5635 [00:00<01:28, 63.16it/s]/home/leon/install/miniconda3/lib/python3.5/site-packages/skimage/external/tifffile/tifffile.py:1794: RuntimeWarning: py_decodelzw encountered unexpected end of stream\n",
      "  strip = decompress(strip)\n",
      "100%|██████████| 5635/5635 [01:32<00:00, 61.20it/s]\n"
     ]
    },
    {
     "name": "stdout",
     "output_type": "stream",
     "text": [
      "image shapes: (5157, 96, 128, 1) (478, 96, 128, 1)\n",
      "presence shapes: (5157,) (478,)\n"
     ]
    }
   ],
   "source": [
    "orig_img_rows, orig_img_cols = 420, 580\n",
    "img_rows, img_cols = 96, 128\n",
    "img_channels = 1\n",
    "\n",
    "# 90/10 train/val split, by subject\n",
    "data_images_train = []\n",
    "data_presence_train = []\n",
    "data_images_val = []\n",
    "data_presence_val = []\n",
    "\n",
    "subjects = set([f['subject'] for f in train_files_map.values()])\n",
    "subjects_val = np.random.choice(list(subjects), int(len(subjects) * 0.1), replace=False)\n",
    "\n",
    "for i in tqdm(range(len(keys_sorted))):\n",
    "    key = keys_sorted[i]\n",
    "    file_info = train_files_map[key]\n",
    "    subject, img, folder, img_file, mask_file = (file_info['subject'], \n",
    "                                                 file_info['img'], \n",
    "                                                 file_info['folder'], \n",
    "                                                 file_info['img_file'], \n",
    "                                                 file_info['mask_file'])\n",
    "    img_filepath = os.path.join(folder, img_file)\n",
    "    mask_filepath = os.path.join(folder, mask_file)\n",
    "    image = io.imread(img_filepath)\n",
    "    if i in conflicting:\n",
    "        mask = conflicting_masks[i]\n",
    "    else:\n",
    "        mask = io.imread(mask_filepath)\n",
    "    if np.sum(mask) > 0:\n",
    "        presence = True\n",
    "    else:\n",
    "        presence = False\n",
    "    image_resized = imresize(image, size=(img_rows, img_cols), interp='bilinear') / 255.0\n",
    "    if subject in subjects_val:\n",
    "        data_images_val.append(image_resized)\n",
    "        data_presence_val.append(presence)\n",
    "    else:\n",
    "        data_images_train.append(image_resized)\n",
    "        data_presence_train.append(presence)\n",
    "\n",
    "data_images_train = np.expand_dims(np.array(data_images_train, dtype=np.float32), axis=3)\n",
    "data_presence_train = np.array(data_presence_train, dtype=np.bool)\n",
    "data_images_val = np.expand_dims(np.array(data_images_val, dtype=np.float32), axis=3)\n",
    "data_presence_val = np.array(data_presence_val, dtype=np.bool)\n",
    "\n",
    "print('image shapes:', data_images_train.shape, data_images_val.shape)\n",
    "print('presence shapes:', data_presence_train.shape, data_presence_val.shape)"
   ]
  },
  {
   "cell_type": "code",
   "execution_count": 31,
   "metadata": {
    "collapsed": false
   },
   "outputs": [
    {
     "name": "stderr",
     "output_type": "stream",
     "text": [
      "100%|██████████| 5157/5157 [00:04<00:00, 1105.80it/s]\n"
     ]
    },
    {
     "name": "stdout",
     "output_type": "stream",
     "text": [
      "image shapes: (30942, 96, 128, 1) (478, 96, 128, 1)\n",
      "presence shapes: (30942,) (478,)\n"
     ]
    }
   ],
   "source": [
    "multiplier = 5\n",
    "\n",
    "data_images_train_augment = []\n",
    "data_presence_train_augment = []\n",
    "for i in tqdm(range(data_images_train.shape[0])):\n",
    "    data_images_train_augment.append(data_images_train[i])\n",
    "    data_presence_train_augment.append(data_presence_train[i])\n",
    "    for j in range(multiplier):\n",
    "        y_shift = random.randint(int(data_images_train.shape[1] * -0.125), \n",
    "                                 int(data_images_train.shape[1] * 0.125))\n",
    "        x_shift = random.randint(int(data_images_train.shape[2] * -0.125), \n",
    "                                 int(data_images_train.shape[2] * 0.125))\n",
    "        image_aug = ndimage.interpolation.shift(data_images_train[i], (y_shift, x_shift, 0), order=0)\n",
    "        presence = data_presence_train[i]\n",
    "        data_images_train_augment.append(image_aug)\n",
    "        data_presence_train_augment.append(presence)\n",
    "\n",
    "data_images_train = np.array(data_images_train_augment, dtype=np.float32)\n",
    "data_presence_train = np.array(data_presence_train_augment, dtype=np.bool)\n",
    "\n",
    "print('image shapes:', data_images_train.shape, data_images_val.shape)\n",
    "print('presence shapes:', data_presence_train.shape, data_presence_val.shape)"
   ]
  },
  {
   "cell_type": "code",
   "execution_count": 32,
   "metadata": {
    "collapsed": true
   },
   "outputs": [],
   "source": [
    "with open(os.path.join(PROCDIR, 'data_train_val_presence_17c.pkl'), 'wb') as f:\n",
    "    pickle.dump((data_images_train, data_presence_train, data_images_val, data_presence_val), f, protocol=4)"
   ]
  },
  {
   "cell_type": "markdown",
   "metadata": {},
   "source": [
    "## segmentation dataset"
   ]
  },
  {
   "cell_type": "code",
   "execution_count": 33,
   "metadata": {
    "collapsed": false
   },
   "outputs": [
    {
     "name": "stderr",
     "output_type": "stream",
     "text": [
      " 15%|█▌        | 177/1154 [00:00<00:04, 231.99it/s]/home/leon/install/miniconda3/lib/python3.5/site-packages/skimage/external/tifffile/tifffile.py:1794: RuntimeWarning: py_decodelzw encountered unexpected end of stream\n",
      "  strip = decompress(strip)\n",
      "100%|██████████| 1154/1154 [00:05<00:00, 224.38it/s]\n"
     ]
    }
   ],
   "source": [
    "# for images with no mask present, we apply the average mask of conflicting images\n",
    "conflicting_masks = {}\n",
    "for i in tqdm(conflicting.keys()):\n",
    "    masks = []\n",
    "    for j in conflicting[i]:\n",
    "        file_info = train_files_map[keys_sorted[j]]\n",
    "        mask = io.imread(os.path.join(file_info['folder'], file_info['mask_file']))\n",
    "        masks.append(mask)\n",
    "    masks = np.array(masks, dtype='float')\n",
    "    conflicting_mask = np.mean(masks, axis=0) > 0.5\n",
    "    conflicting_masks[i] = conflicting_mask"
   ]
  },
  {
   "cell_type": "code",
   "execution_count": 34,
   "metadata": {
    "collapsed": false
   },
   "outputs": [
    {
     "name": "stderr",
     "output_type": "stream",
     "text": [
      "  1%|          | 44/5635 [00:00<01:53, 49.26it/s]/home/leon/install/miniconda3/lib/python3.5/site-packages/skimage/external/tifffile/tifffile.py:1794: RuntimeWarning: py_decodelzw encountered unexpected end of stream\n",
      "  strip = decompress(strip)\n",
      "100%|██████████| 5635/5635 [01:42<00:00, 56.98it/s]\n"
     ]
    },
    {
     "name": "stdout",
     "output_type": "stream",
     "text": [
      "image shapes: (5155, 96, 128, 1) (480, 96, 128, 1)\n",
      "mask shapes: (5155, 96, 128) (480, 96, 128)\n"
     ]
    }
   ],
   "source": [
    "orig_img_rows, orig_img_cols = 420, 580\n",
    "img_rows, img_cols = 96, 128\n",
    "img_channels = 1\n",
    "\n",
    "# 90/10 train/val split, by subject\n",
    "data_images_train = []\n",
    "data_masks_train = []\n",
    "data_images_val = []\n",
    "data_masks_val = []\n",
    "\n",
    "subjects = set([f['subject'] for f in train_files_map.values()])\n",
    "subjects_val = np.random.choice(list(subjects), int(len(subjects) * 0.1), replace=False)\n",
    "\n",
    "for i in tqdm(range(len(keys_sorted))):\n",
    "    key = keys_sorted[i]\n",
    "    file_info = train_files_map[key]\n",
    "    subject, img, folder, img_file, mask_file = (file_info['subject'], \n",
    "                                                 file_info['img'], \n",
    "                                                 file_info['folder'], \n",
    "                                                 file_info['img_file'], \n",
    "                                                 file_info['mask_file'])\n",
    "    img_filepath = os.path.join(folder, img_file)\n",
    "    mask_filepath = os.path.join(folder, mask_file)\n",
    "    image = io.imread(img_filepath)\n",
    "    if i in conflicting:\n",
    "        mask = conflicting_masks[i]\n",
    "    else:\n",
    "        mask = io.imread(mask_filepath)\n",
    "    image_resized = imresize(image, size=(img_rows, img_cols), interp='bilinear') / 255.0\n",
    "    mask_resized = imresize(mask, size=(img_rows, img_cols), interp='bilinear').astype(np.bool)\n",
    "    if subject in subjects_val:\n",
    "        data_images_val.append(image_resized)\n",
    "        data_masks_val.append(mask_resized)\n",
    "    else:\n",
    "        data_images_train.append(image_resized)\n",
    "        data_masks_train.append(mask_resized)\n",
    "\n",
    "data_images_train = np.expand_dims(np.array(data_images_train, dtype=np.float32), axis=3)\n",
    "data_masks_train = np.array(data_masks_train, dtype=np.bool)\n",
    "data_images_val = np.expand_dims(np.array(data_images_val, dtype=np.float32), axis=3)\n",
    "data_masks_val = np.array(data_masks_val, dtype=np.bool)\n",
    "\n",
    "print('image shapes:', data_images_train.shape, data_images_val.shape)\n",
    "print('mask shapes:', data_masks_train.shape, data_masks_val.shape)"
   ]
  },
  {
   "cell_type": "code",
   "execution_count": 35,
   "metadata": {
    "collapsed": false
   },
   "outputs": [
    {
     "name": "stderr",
     "output_type": "stream",
     "text": [
      "100%|██████████| 5155/5155 [00:08<00:00, 616.93it/s]\n"
     ]
    },
    {
     "name": "stdout",
     "output_type": "stream",
     "text": [
      "image shapes: (30930, 96, 128, 1) (480, 96, 128, 1)\n",
      "mask shapes: (30930, 96, 128) (480, 96, 128)\n"
     ]
    }
   ],
   "source": [
    "multiplier = 5\n",
    "\n",
    "data_images_train_augment = []\n",
    "data_masks_train_augment = []\n",
    "for i in tqdm(range(data_images_train.shape[0])):\n",
    "    data_images_train_augment.append(data_images_train[i])\n",
    "    data_masks_train_augment.append(data_masks_train[i])\n",
    "    for j in range(multiplier):\n",
    "        y_shift = random.randint(int(data_images_train.shape[1] * -0.125), \n",
    "                                 int(data_images_train.shape[1] * 0.125))\n",
    "        x_shift = random.randint(int(data_images_train.shape[2] * -0.125), \n",
    "                                 int(data_images_train.shape[2] * 0.125))\n",
    "        image_aug = ndimage.interpolation.shift(data_images_train[i], (y_shift, x_shift, 0), order=0)\n",
    "        mask_aug = ndimage.interpolation.shift(data_masks_train[i], (y_shift, x_shift), order=0)\n",
    "        data_images_train_augment.append(image_aug)\n",
    "        data_masks_train_augment.append(mask_aug)\n",
    "\n",
    "data_images_train = np.array(data_images_train_augment, dtype=np.float32)\n",
    "data_masks_train = np.array(data_masks_train_augment, dtype=np.bool)\n",
    "\n",
    "print('image shapes:', data_images_train.shape, data_images_val.shape)\n",
    "print('mask shapes:', data_masks_train.shape, data_masks_val.shape)"
   ]
  },
  {
   "cell_type": "code",
   "execution_count": 36,
   "metadata": {
    "collapsed": false
   },
   "outputs": [],
   "source": [
    "with open(os.path.join(PROCDIR, 'data_train_val_segment_17c.pkl'), 'wb') as f:\n",
    "    pickle.dump((data_images_train, data_masks_train, data_images_val, data_masks_val), f, protocol=4)"
   ]
  },
  {
   "cell_type": "markdown",
   "metadata": {},
   "source": [
    "## mask dataset"
   ]
  },
  {
   "cell_type": "code",
   "execution_count": 37,
   "metadata": {
    "collapsed": false
   },
   "outputs": [
    {
     "name": "stderr",
     "output_type": "stream",
     "text": [
      "  4%|▍         | 246/5635 [00:00<00:10, 506.00it/s]/home/leon/install/miniconda3/lib/python3.5/site-packages/skimage/external/tifffile/tifffile.py:1794: RuntimeWarning: py_decodelzw encountered unexpected end of stream\n",
      "  strip = decompress(strip)\n",
      "100%|██████████| 5635/5635 [00:07<00:00, 784.81it/s]"
     ]
    },
    {
     "name": "stdout",
     "output_type": "stream",
     "text": [
      "mask shapes: (2083, 96, 128) (240, 96, 128)\n"
     ]
    },
    {
     "name": "stderr",
     "output_type": "stream",
     "text": [
      "\n"
     ]
    }
   ],
   "source": [
    "# 90/10 train/val split, by subject\n",
    "data_masks_train = []\n",
    "data_masks_val = []\n",
    "\n",
    "subjects = set([f['subject'] for f in train_files_map.values()])\n",
    "subjects_val = np.random.choice(list(subjects), int(len(subjects) * 0.1), replace=False)\n",
    "\n",
    "for file_info in tqdm(train_files_map.values()):\n",
    "    subject, img, folder, img_file, mask_file = (file_info['subject'], \n",
    "                                                 file_info['img'], \n",
    "                                                 file_info['folder'], \n",
    "                                                 file_info['img_file'], \n",
    "                                                 file_info['mask_file'])\n",
    "    mask_filepath = os.path.join(folder, mask_file)\n",
    "    mask = io.imread(mask_filepath)\n",
    "    \n",
    "    if np.sum(mask) == 0:\n",
    "        continue\n",
    "        \n",
    "    mask_resized = (imresize(mask, size=(img_rows, img_cols), interp='bilinear') / 255.0).astype(np.bool)\n",
    "    if subject in subjects_val:\n",
    "        data_masks_val.append(mask_resized)\n",
    "    else:\n",
    "        data_masks_train.append(mask_resized)\n",
    "\n",
    "data_masks_train = np.array(data_masks_train, dtype=np.bool)\n",
    "data_masks_val = np.array(data_masks_val, dtype=np.bool)\n",
    "\n",
    "print('mask shapes:', data_masks_train.shape, data_masks_val.shape)"
   ]
  },
  {
   "cell_type": "code",
   "execution_count": 38,
   "metadata": {
    "collapsed": true
   },
   "outputs": [],
   "source": [
    "with open(os.path.join(PROCDIR, 'data_train_val_vae_17c.pkl'), 'wb') as f:\n",
    "    pickle.dump((data_masks_train, data_masks_val), f, protocol=4)"
   ]
  },
  {
   "cell_type": "code",
   "execution_count": null,
   "metadata": {
    "collapsed": true
   },
   "outputs": [],
   "source": []
  }
 ],
 "metadata": {
  "kernelspec": {
   "display_name": "Python 3",
   "language": "python",
   "name": "python3"
  },
  "language_info": {
   "codemirror_mode": {
    "name": "ipython",
    "version": 3
   },
   "file_extension": ".py",
   "mimetype": "text/x-python",
   "name": "python",
   "nbconvert_exporter": "python",
   "pygments_lexer": "ipython3",
   "version": "3.5.1"
  }
 },
 "nbformat": 4,
 "nbformat_minor": 0
}
