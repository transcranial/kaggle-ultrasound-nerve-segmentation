{
 "cells": [
  {
   "cell_type": "code",
   "execution_count": 1,
   "metadata": {
    "collapsed": false
   },
   "outputs": [
    {
     "name": "stderr",
     "output_type": "stream",
     "text": [
      "Using TensorFlow backend.\n"
     ]
    }
   ],
   "source": [
    "import os\n",
    "import numpy as np\n",
    "from skimage import io\n",
    "from matplotlib import pyplot as plt\n",
    "from scipy.misc import imresize\n",
    "from scipy import ndimage\n",
    "\n",
    "%matplotlib inline\n",
    "\n",
    "import tensorflow as tf\n",
    "from keras.layers import Dense, Activation, Flatten, Lambda, BatchNormalization, Reshape, Dropout\n",
    "from keras.layers import Convolution2D, MaxPooling2D, AveragePooling2D, UpSampling2D\n",
    "from keras.engine import merge, Input, Model\n",
    "from keras.optimizers import SGD\n",
    "from keras.callbacks import Callback, LearningRateScheduler, ModelCheckpoint, EarlyStopping\n",
    "from keras.preprocessing.image import ImageDataGenerator\n",
    "from keras.utils import np_utils\n",
    "import keras.backend as K\n",
    "import time\n",
    "import random\n",
    "import pickle\n",
    "import json\n",
    "import csv\n",
    "from tqdm import tqdm\n",
    "from natsort import natsorted\n",
    "\n",
    "from sklearn.metrics import roc_auc_score, confusion_matrix, classification_report\n",
    "\n",
    "from helper import to_rle\n",
    "from segmentation import *\n",
    "from stochastic_depth_resnet import *\n",
    "\n",
    "DATADIR = os.path.expanduser('~/data/kaggle/ultrasound-nerve-segmentation')\n",
    "PROCDIR = os.path.expanduser('~/ml/kaggle/ultrasound-nerve-segmentation/processed')\n",
    "MODELDIR = os.path.expanduser('~/ml/kaggle/ultrasound-nerve-segmentation/models')\n",
    "SUBMITDIR = os.path.expanduser('~/ml/kaggle/ultrasound-nerve-segmentation/submissions')"
   ]
  },
  {
   "cell_type": "code",
   "execution_count": 3,
   "metadata": {
    "collapsed": true
   },
   "outputs": [],
   "source": [
    "WEIGHTS_PRESENCE_FILEPATH = os.path.join(MODELDIR, 'model-05-presence-weights.hdf5')\n",
    "HISTORY_PRESENCE_FILEPATH = os.path.join(MODELDIR, 'model-05-presence-training-history.json')\n",
    "\n",
    "WEIGHTS_SEGMENT_FILEPATH = os.path.join(MODELDIR, 'model-05-segment-weights.hdf5')\n",
    "HISTORY_SEGMENT_FILEPATH = os.path.join(MODELDIR, 'model-05-segment-training-history.json')"
   ]
  },
  {
   "cell_type": "code",
   "execution_count": 4,
   "metadata": {
    "collapsed": true
   },
   "outputs": [],
   "source": [
    "with open(os.path.join(PROCDIR, 'train_files_map.pkl'), 'rb') as f:\n",
    "    train_files_map = pickle.load(f)\n",
    "with open(os.path.join(PROCDIR, 'test_files_map.pkl'), 'rb') as f:\n",
    "    test_files_map = pickle.load(f)"
   ]
  },
  {
   "cell_type": "code",
   "execution_count": 5,
   "metadata": {
    "collapsed": false
   },
   "outputs": [
    {
     "name": "stdout",
     "output_type": "stream",
     "text": [
      "image (all) shapes: (20624, 128, 192, 1) (479, 128, 192, 1)\n",
      "presence label shapes: (20624,) (479,)\n",
      "image (pos) shapes: (8544, 128, 192, 1) (187, 128, 192, 1)\n",
      "mask (pos) shapes: (8544, 128, 192) (187, 128, 192)\n"
     ]
    }
   ],
   "source": [
    "with open(os.path.join(PROCDIR, 'data_train_val_05.pkl'), 'rb') as f:\n",
    "    (data_images_all_train, data_images_all_val, \n",
    "     data_presence_train, data_presence_val, \n",
    "     data_images_pos_train, data_images_pos_val, \n",
    "     data_masks_pos_train, data_masks_pos_val) = pickle.load(f)\n",
    "\n",
    "print('image (all) shapes:', data_images_all_train.shape, data_images_all_val.shape)\n",
    "print('presence label shapes:', data_presence_train.shape, data_presence_val.shape)\n",
    "print('image (pos) shapes:', data_images_pos_train.shape, data_images_pos_val.shape)\n",
    "print('mask (pos) shapes:', data_masks_pos_train.shape, data_masks_pos_val.shape)"
   ]
  },
  {
   "cell_type": "markdown",
   "metadata": {},
   "source": [
    "## presence model"
   ]
  },
  {
   "cell_type": "code",
   "execution_count": 6,
   "metadata": {
    "collapsed": false
   },
   "outputs": [
    {
     "name": "stdout",
     "output_type": "stream",
     "text": [
      "model init time: 27.229867458343506\n",
      "model compile time: 5.97313117980957\n"
     ]
    }
   ],
   "source": [
    "start_time = time.time()\n",
    "\n",
    "orig_img_rows, orig_img_cols = 420, 580\n",
    "img_rows, img_cols = 128, 192\n",
    "img_channels = 1\n",
    "\n",
    "blocks_per_group = 10\n",
    "nb_total_blocks = 5 * blocks_per_group\n",
    "\n",
    "with tf.device('/gpu:0'):\n",
    "    \n",
    "    images_presence = Input(shape=(img_rows, img_cols, img_channels))\n",
    "\n",
    "    x = Convolution2D(4, 3, 3, subsample=(1, 1),\n",
    "                      init='he_normal', border_mode='same', dim_ordering='tf')(images_presence)\n",
    "    x = BatchNormalization(axis=3)(x)\n",
    "    x = Activation('relu')(x)\n",
    "\n",
    "    for i in range(0, blocks_per_group):\n",
    "        nb_filters = 4\n",
    "        x = stochastic_depth_residual_block(x, nb_filters=nb_filters,\n",
    "                                            block=i, nb_total_blocks=nb_total_blocks,\n",
    "                                            subsample_factor=1)\n",
    "\n",
    "    for i in range(0, blocks_per_group):\n",
    "        nb_filters = 8\n",
    "        if i == 0:\n",
    "            subsample_factor = 2\n",
    "        else:\n",
    "            subsample_factor = 1\n",
    "        x = stochastic_depth_residual_block(x, nb_filters=nb_filters,\n",
    "                                            block=blocks_per_group + i, nb_total_blocks=nb_total_blocks,\n",
    "                                            subsample_factor=subsample_factor)\n",
    "\n",
    "    for i in range(0, blocks_per_group):\n",
    "        nb_filters = 16\n",
    "        if i == 0:\n",
    "            subsample_factor = 2\n",
    "        else:\n",
    "            subsample_factor = 1\n",
    "        x = stochastic_depth_residual_block(x, nb_filters=nb_filters,\n",
    "                                            block=2 * blocks_per_group + i, nb_total_blocks=nb_total_blocks,\n",
    "                                            subsample_factor=subsample_factor)\n",
    "        \n",
    "with tf.device('/gpu:1'):\n",
    "\n",
    "    for i in range(0, blocks_per_group):\n",
    "        nb_filters = 32\n",
    "        if i == 0:\n",
    "            subsample_factor = 2\n",
    "        else:\n",
    "            subsample_factor = 1\n",
    "        x = stochastic_depth_residual_block(x, nb_filters=nb_filters,\n",
    "                                            block=3 * blocks_per_group + i, nb_total_blocks=nb_total_blocks,\n",
    "                                            subsample_factor=subsample_factor)\n",
    "\n",
    "    for i in range(0, blocks_per_group):\n",
    "        nb_filters = 64\n",
    "        if i == 0:\n",
    "            subsample_factor = 2\n",
    "        else:\n",
    "            subsample_factor = 1\n",
    "        x = stochastic_depth_residual_block(x, nb_filters=nb_filters,\n",
    "                                            block=4 * blocks_per_group + i, nb_total_blocks=nb_total_blocks,\n",
    "                                            subsample_factor=subsample_factor)\n",
    "\n",
    "    x = AveragePooling2D(pool_size=(8, 8), strides=None, border_mode='valid', dim_ordering='tf')(x)\n",
    "    x = Flatten()(x)\n",
    "    presence = Dense(1, activation='sigmoid')(x)\n",
    "\n",
    "    model_presence = Model(input=images_presence, output=presence)\n",
    "\n",
    "print('model init time: {}'.format(time.time() - start_time))\n",
    "\n",
    "start_time = time.time()\n",
    "\n",
    "model_presence.compile(optimizer='adam', loss='binary_crossentropy', metrics=['accuracy'])\n",
    "\n",
    "print('model compile time: {}'.format(time.time() - start_time))"
   ]
  },
  {
   "cell_type": "markdown",
   "metadata": {},
   "source": [
    "## presence model train"
   ]
  },
  {
   "cell_type": "code",
   "execution_count": null,
   "metadata": {
    "collapsed": false
   },
   "outputs": [],
   "source": [
    "batch_size = 64\n",
    "nb_epoch = 1\n",
    "\n",
    "# Model saving callback\n",
    "#checkpointer = ModelCheckpoint(filepath=WEIGHTS_PRESENCE_FILEPATH, verbose=1, save_best_only=True)\n",
    "\n",
    "# Early stopping\n",
    "#early_stopping = EarlyStopping(monitor='val_loss', patience=10)\n",
    "\n",
    "history = model_presence.fit(data_images_all_train, data_presence_train,\n",
    "                             batch_size=batch_size, nb_epoch=nb_epoch, verbose=1,\n",
    "                             validation_data=(data_images_all_val, data_presence_val), shuffle=True,\n",
    "                             callbacks=[])\n",
    "\n",
    "#with open(HISTORY_PRESENCE_FILEPATH, 'w') as f_out:\n",
    "#    json.dump(history.history, f_out)"
   ]
  },
  {
   "cell_type": "markdown",
   "metadata": {},
   "source": [
    "## segmentation model"
   ]
  },
  {
   "cell_type": "code",
   "execution_count": 7,
   "metadata": {
    "collapsed": false
   },
   "outputs": [
    {
     "name": "stdout",
     "output_type": "stream",
     "text": [
      "model init time: 38.034818172454834\n",
      "model compile time: 3.54858660697937\n"
     ]
    }
   ],
   "source": [
    "start_time = time.time()\n",
    "\n",
    "orig_img_rows, orig_img_cols = 420, 580\n",
    "img_rows, img_cols = 128, 192\n",
    "img_channels = 1\n",
    "\n",
    "blocks_per_group = 4\n",
    "nb_total_blocks = 5 * blocks_per_group\n",
    "\n",
    "with tf.device('/gpu:0'):\n",
    "    \n",
    "    images_segment = Input(shape=(img_rows, img_cols, img_channels))\n",
    "\n",
    "    x = Convolution2D(8, 3, 3, subsample=(1, 1),\n",
    "                      init='he_normal', border_mode='same', dim_ordering='tf')(images_segment)\n",
    "    x = BatchNormalization(axis=3)(x)\n",
    "    x = Activation('relu')(x)\n",
    "\n",
    "    for i in range(0, blocks_per_group):\n",
    "        nb_filters = 8\n",
    "        x = stochastic_depth_residual_block(x, nb_filters=nb_filters,\n",
    "                                            block=i, nb_total_blocks=nb_total_blocks,\n",
    "                                            subsample_factor=1)\n",
    "\n",
    "    for i in range(0, blocks_per_group):\n",
    "        nb_filters = 16\n",
    "        if i == 0:\n",
    "            subsample_factor = 2\n",
    "        else:\n",
    "            subsample_factor = 1\n",
    "        x = stochastic_depth_residual_block(x, nb_filters=nb_filters,\n",
    "                                            block=blocks_per_group + i, nb_total_blocks=nb_total_blocks,\n",
    "                                            subsample_factor=subsample_factor)\n",
    "\n",
    "    f2 = x\n",
    "    f2 = UpSampling2D(size=(2, 2), dim_ordering='tf')(f2)\n",
    "    f2 = Convolution2D(8, 3, 3, init='he_uniform', border_mode='same', activation='relu', dim_ordering='tf')(f2)\n",
    "\n",
    "    for i in range(0, blocks_per_group):\n",
    "        nb_filters = 32\n",
    "        if i == 0:\n",
    "            subsample_factor = 2\n",
    "        else:\n",
    "            subsample_factor = 1\n",
    "        x = stochastic_depth_residual_block(x, nb_filters=nb_filters,\n",
    "                                            block=2 * blocks_per_group + i, nb_total_blocks=nb_total_blocks,\n",
    "                                            subsample_factor=subsample_factor)\n",
    "\n",
    "    f4 = x\n",
    "    f4 = UpSampling2D(size=(4, 4), dim_ordering='tf')(f4)\n",
    "    f4 = Convolution2D(8, 3, 3, init='he_uniform', border_mode='same', activation='relu', dim_ordering='tf')(f4)\n",
    "        \n",
    "with tf.device('/gpu:1'):\n",
    "\n",
    "    for i in range(0, blocks_per_group):\n",
    "        nb_filters = 64\n",
    "        if i == 0:\n",
    "            subsample_factor = 2\n",
    "        else:\n",
    "            subsample_factor = 1\n",
    "        x = stochastic_depth_residual_block(x, nb_filters=nb_filters,\n",
    "                                            block=3 * blocks_per_group + i, nb_total_blocks=nb_total_blocks,\n",
    "                                            subsample_factor=subsample_factor)\n",
    "\n",
    "    f8 = x\n",
    "    f8 = UpSampling2D(size=(8, 8), dim_ordering='tf')(f8)\n",
    "    f8 = Convolution2D(8, 3, 3, init='he_uniform', border_mode='same', activation='relu', dim_ordering='tf')(f8)\n",
    "\n",
    "    for i in range(0, blocks_per_group):\n",
    "        nb_filters = 64\n",
    "        if i == 0:\n",
    "            subsample_factor = 2\n",
    "        else:\n",
    "            subsample_factor = 1\n",
    "        x = stochastic_depth_residual_block(x, nb_filters=nb_filters,\n",
    "                                            block=4 * blocks_per_group + i, nb_total_blocks=nb_total_blocks,\n",
    "                                            subsample_factor=subsample_factor)\n",
    "\n",
    "    f16 = x\n",
    "    f16 = UpSampling2D(size=(16, 16), dim_ordering='tf')(f16)\n",
    "    f16 = Convolution2D(8, 3, 3, init='he_uniform', border_mode='same', activation='relu', dim_ordering='tf')(f16)\n",
    "\n",
    "    segmentation = merge([f16, f8, f4, f2], mode='concat', concat_axis=-1)   \n",
    "    segmentation = Convolution2D(1, 1, 1, \n",
    "                                 activation='sigmoid', \n",
    "                                 init='uniform', border_mode='same', dim_ordering='tf')(segmentation)\n",
    "    segmentation = Reshape((img_rows, img_cols))(segmentation)\n",
    "\n",
    "    model_segment = Model(input=images_segment, output=segmentation)\n",
    "\n",
    "print('model init time: {}'.format(time.time() - start_time))\n",
    "\n",
    "start_time = time.time()\n",
    "\n",
    "model_segment.compile(optimizer='adam', loss=binaryCE, metrics=[dice_coeff])\n",
    "\n",
    "print('model compile time: {}'.format(time.time() - start_time))"
   ]
  },
  {
   "cell_type": "markdown",
   "metadata": {},
   "source": [
    "## test"
   ]
  },
  {
   "cell_type": "code",
   "execution_count": 11,
   "metadata": {
    "collapsed": false
   },
   "outputs": [
    {
     "name": "stdout",
     "output_type": "stream",
     "text": [
      "image shapes: (5155, 128, 192, 1) (480, 128, 192, 1)\n",
      "mask shapes: (5155, 128, 192) (480, 128, 192)\n"
     ]
    }
   ],
   "source": [
    "with open(os.path.join(PROCDIR, 'data_train_val_01.pkl'), 'rb') as f:\n",
    "    data_images_train, data_masks_train, data_images_val, data_masks_val = pickle.load(f)\n",
    "    \n",
    "print('image shapes:', data_images_train.shape, data_images_val.shape)\n",
    "print('mask shapes:', data_masks_train.shape, data_masks_val.shape)"
   ]
  },
  {
   "cell_type": "code",
   "execution_count": 9,
   "metadata": {
    "collapsed": true
   },
   "outputs": [],
   "source": [
    "model_presence.load_weights(os.path.join(MODELDIR, 'model-05-presence-weights.hdf5'))"
   ]
  },
  {
   "cell_type": "code",
   "execution_count": 10,
   "metadata": {
    "collapsed": true
   },
   "outputs": [],
   "source": [
    "model_segment.load_weights(os.path.join(MODELDIR, 'model-01-weights.hdf5'))"
   ]
  },
  {
   "cell_type": "code",
   "execution_count": 25,
   "metadata": {
    "collapsed": false
   },
   "outputs": [
    {
     "name": "stdout",
     "output_type": "stream",
     "text": [
      "presence prediction:  [ 0.32125226] [False]\n"
     ]
    },
    {
     "data": {
      "text/plain": [
       "<matplotlib.image.AxesImage at 0x7f3a3b945128>"
      ]
     },
     "execution_count": 25,
     "metadata": {},
     "output_type": "execute_result"
    },
    {
     "data": {
      "image/png": "[encoded data removed]",
      "text/plain": [
       "<matplotlib.figure.Figure at 0x7f3a3ba71588>"
      ]
     },
     "metadata": {},
     "output_type": "display_data"
    }
   ],
   "source": [
    "rand_i = random.randint(0, data_images_val.shape[0] - 1)\n",
    "\n",
    "presence = model_presence.predict(data_images_val[rand_i:rand_i+1], verbose=0)[0]\n",
    "print('presence prediction: ', presence, presence > 0.5)\n",
    "\n",
    "plt.figure(figsize=(15,5))\n",
    "plt.subplot(1,3,1)\n",
    "plt.imshow(data_images_val[rand_i, :, :, 0], cmap=plt.cm.viridis)\n",
    "plt.subplot(1,3,2)\n",
    "plt.title('mask pred')\n",
    "plt.imshow(model_segment.predict(data_images_val[rand_i:rand_i+1], verbose=0)[0, :, :] > 0.5, cmap=plt.cm.bone)\n",
    "plt.subplot(1,3,3)\n",
    "plt.title('mask true')\n",
    "plt.imshow(data_masks_val[rand_i, :, :], cmap=plt.cm.bone)"
   ]
  },
  {
   "cell_type": "code",
   "execution_count": 29,
   "metadata": {
    "collapsed": false
   },
   "outputs": [
    {
     "data": {
      "text/plain": [
       "0.62895139489265706"
      ]
     },
     "execution_count": 29,
     "metadata": {},
     "output_type": "execute_result"
    }
   ],
   "source": [
    "preds_segment = model_segment.predict(data_images_val, verbose=0)\n",
    "np.mean(2 * np.sum(data_masks_val * preds_segment>0.5) / (np.sum(data_masks_val) + np.sum(preds_segment>0.5) + 1e-6), axis=None)"
   ]
  },
  {
   "cell_type": "code",
   "execution_count": 31,
   "metadata": {
    "collapsed": false
   },
   "outputs": [
    {
     "data": {
      "text/plain": [
       "0.6291806083228928"
      ]
     },
     "execution_count": 31,
     "metadata": {},
     "output_type": "execute_result"
    }
   ],
   "source": [
    "preds_mod = []\n",
    "for i in range(preds_segment.shape[0]):\n",
    "    preds_mod.append(ndimage.morphology.binary_fill_holes(preds_segment[i,:,:]>0.5))\n",
    "preds_mod = np.array(preds_mod, dtype=np.bool)\n",
    "np.mean(2 * np.sum(data_masks_val * preds_mod) / (np.sum(data_masks_val) + np.sum(preds_mod) + 1e-6), axis=None)"
   ]
  },
  {
   "cell_type": "code",
   "execution_count": 75,
   "metadata": {
    "collapsed": false
   },
   "outputs": [
    {
     "data": {
      "text/plain": [
       "0.65131025842326284"
      ]
     },
     "execution_count": 75,
     "metadata": {},
     "output_type": "execute_result"
    }
   ],
   "source": [
    "preds_presence = model_presence.predict(data_images_val, verbose=0)\n",
    "preds_segment = model_segment.predict(data_images_val, verbose=0)\n",
    "preds_mod = []\n",
    "for i in range(preds_segment.shape[0]):\n",
    "    if preds_presence[i] < 0.3:\n",
    "        preds_mod.append(preds_segment[i,:,:]>0.9)\n",
    "    elif preds_presence[i] > 0.75:\n",
    "        preds_mod.append(preds_segment[i,:,:]>0.35)\n",
    "    else:\n",
    "        preds_mod.append(preds_segment[i,:,:]>0.5)\n",
    "np.mean(2 * np.sum(data_masks_val * preds_mod) / (np.sum(data_masks_val) + np.sum(preds_mod) + 1e-6), axis=None)"
   ]
  },
  {
   "cell_type": "code",
   "execution_count": 77,
   "metadata": {
    "collapsed": false
   },
   "outputs": [
    {
     "name": "stderr",
     "output_type": "stream",
     "text": [
      " 11%|█         | 596/5508 [01:04<09:47,  8.36it/s]/home/leon/install/miniconda3/lib/python3.5/site-packages/skimage/external/tifffile/tifffile.py:1794: RuntimeWarning: py_decodelzw encountered unexpected end of stream\n",
      "  strip = decompress(strip)\n",
      "100%|██████████| 5508/5508 [10:18<00:00,  9.27it/s]\n"
     ]
    }
   ],
   "source": [
    "with open(os.path.join(SUBMITDIR, 'model-05.csv'), 'w') as f:\n",
    "    writer = csv.writer(f)\n",
    "    writer.writerow(['img', 'pixels'])\n",
    "\n",
    "    for key in tqdm(natsorted(list(test_files_map.keys()))):\n",
    "        file_info = test_files_map[key]\n",
    "        img, folder, img_file = file_info['img'], file_info['folder'], file_info['img_file']\n",
    "        img_filepath = os.path.join(folder, img_file)\n",
    "        image = io.imread(img_filepath) / 255.0\n",
    "        image_resized = np.expand_dims(imresize(image, size=(img_rows, img_cols), interp='bilinear'), axis=3)\n",
    "        presence = model_presence.predict(np.array([image_resized], dtype=np.float32), verbose=0)[0]\n",
    "        mask_pred = model_segment.predict(np.array([image_resized], dtype=np.float32), verbose=0)\n",
    "        if presence < 0.3:\n",
    "            mask_pred = mask_pred[0, :, :] > 0.9\n",
    "        elif presence > 0.75:\n",
    "            mask_pred = mask_pred[0, :, :] > 0.35\n",
    "        else:\n",
    "            mask_pred = mask_pred[0, :, :] > 0.5\n",
    "        mask_pred_orig_size = imresize(mask_pred, size=(orig_img_rows, orig_img_cols), interp='bilinear').astype(np.bool)\n",
    "        rle = to_rle(mask_pred_orig_size)\n",
    "        writer.writerow([img, rle])"
   ]
  },
  {
   "cell_type": "code",
   "execution_count": null,
   "metadata": {
    "collapsed": true
   },
   "outputs": [],
   "source": []
  }
 ],
 "metadata": {
  "kernelspec": {
   "display_name": "Python 3",
   "language": "python",
   "name": "python3"
  },
  "language_info": {
   "codemirror_mode": {
    "name": "ipython",
    "version": 3
   },
   "file_extension": ".py",
   "mimetype": "text/x-python",
   "name": "python",
   "nbconvert_exporter": "python",
   "pygments_lexer": "ipython3",
   "version": "3.5.1"
  }
 },
 "nbformat": 4,
 "nbformat_minor": 0
}
