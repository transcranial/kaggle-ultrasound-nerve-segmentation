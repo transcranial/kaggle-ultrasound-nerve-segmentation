{
 "cells": [
  {
   "cell_type": "code",
   "execution_count": 1,
   "metadata": {
    "collapsed": true
   },
   "outputs": [],
   "source": [
    "import os\n",
    "import numpy as np\n",
    "from skimage import io\n",
    "from matplotlib import pyplot as plt\n",
    "from scipy.misc import imresize\n",
    "from scipy import ndimage\n",
    "\n",
    "%matplotlib inline\n",
    "\n",
    "import random\n",
    "import csv\n",
    "import re\n",
    "import pickle\n",
    "import json\n",
    "from tqdm import tqdm\n",
    "\n",
    "DATADIR = os.path.expanduser('~/data/kaggle/ultrasound-nerve-segmentation')\n",
    "PROCDIR = os.path.expanduser('~/ml/kaggle/ultrasound-nerve-segmentation/processed')\n",
    "MODELDIR = os.path.expanduser('~/ml/kaggle/ultrasound-nerve-segmentation/models')"
   ]
  },
  {
   "cell_type": "code",
   "execution_count": 2,
   "metadata": {
    "collapsed": true
   },
   "outputs": [],
   "source": [
    "with open(os.path.join(PROCDIR, 'train_files_map.pkl'), 'rb') as f:\n",
    "    train_files_map = pickle.load(f)\n",
    "with open(os.path.join(PROCDIR, 'test_files_map.pkl'), 'rb') as f:\n",
    "    test_files_map = pickle.load(f)"
   ]
  },
  {
   "cell_type": "markdown",
   "metadata": {},
   "source": [
    "## create dataset"
   ]
  },
  {
   "cell_type": "code",
   "execution_count": 7,
   "metadata": {
    "collapsed": false
   },
   "outputs": [
    {
     "name": "stderr",
     "output_type": "stream",
     "text": [
      "  6%|▋         | 354/5635 [00:07<01:53, 46.62it/s]/home/leon/install/miniconda3/lib/python3.5/site-packages/skimage/external/tifffile/tifffile.py:1794: RuntimeWarning: py_decodelzw encountered unexpected end of stream\n",
      "  strip = decompress(strip)\n",
      "100%|██████████| 5635/5635 [02:03<00:00, 45.67it/s]\n"
     ]
    },
    {
     "name": "stdout",
     "output_type": "stream",
     "text": [
      "image (all) shapes: (4555, 128, 192, 1) (1080, 128, 192, 1)\n",
      "presence label shapes: (4555,) (1080,)\n",
      "image (pos) shapes: (1871, 128, 192, 1) (452, 128, 192, 1)\n",
      "mask (pos) shapes: (1871, 128, 192) (452, 128, 192)\n"
     ]
    }
   ],
   "source": [
    "orig_img_rows, orig_img_cols = 420, 580\n",
    "img_rows, img_cols = 128, 192\n",
    "img_channels = 1\n",
    "\n",
    "# 80/20 train/val split, by subject\n",
    "data_images_all_train = []\n",
    "data_presence_train = []\n",
    "data_images_pos_train = []\n",
    "data_masks_pos_train = []\n",
    "data_images_all_val = []\n",
    "data_presence_val = []\n",
    "data_images_pos_val = []\n",
    "data_masks_pos_val = []\n",
    "\n",
    "subjects = set([f['subject'] for f in train_files_map.values()])\n",
    "subjects_val = np.random.choice(list(subjects), int(len(subjects) * 0.2), replace=False)\n",
    "\n",
    "for file_info in tqdm(train_files_map.values()):\n",
    "    subject, img, folder, img_file, mask_file = (file_info['subject'], \n",
    "                                                 file_info['img'], \n",
    "                                                 file_info['folder'], \n",
    "                                                 file_info['img_file'], \n",
    "                                                 file_info['mask_file'])\n",
    "    img_filepath = os.path.join(folder, img_file)\n",
    "    mask_filepath = os.path.join(folder, mask_file)\n",
    "    image = io.imread(img_filepath) / 255.0\n",
    "    mask = io.imread(mask_filepath) / 255.0\n",
    "    if np.sum(mask) == 0:\n",
    "        presence = False\n",
    "    else:\n",
    "        presence = True\n",
    "    image_resized = imresize(image, size=(img_rows, img_cols), interp='bilinear')\n",
    "    mask_resized = imresize(mask, size=(img_rows, img_cols), interp='bilinear').astype(np.bool)\n",
    "    if subject in subjects_val:\n",
    "        data_images_all_val.append(image_resized)\n",
    "        data_presence_val.append(presence)\n",
    "        if presence:\n",
    "            data_images_pos_val.append(image_resized)\n",
    "            data_masks_pos_val.append(mask_resized)\n",
    "    else:\n",
    "        data_images_all_train.append(image_resized)\n",
    "        data_presence_train.append(presence)\n",
    "        if presence:\n",
    "            data_images_pos_train.append(image_resized)\n",
    "            data_masks_pos_train.append(mask_resized)\n",
    "\n",
    "data_images_all_train = np.expand_dims(np.array(data_images_all_train, dtype=np.float32), axis=3)\n",
    "data_presence_train = np.array(data_presence_train, dtype=np.bool)\n",
    "data_images_pos_train = np.expand_dims(np.array(data_images_pos_train, dtype=np.float32), axis=3)\n",
    "data_masks_pos_train = np.array(data_masks_pos_train, dtype=np.bool)\n",
    "data_images_all_val = np.expand_dims(np.array(data_images_all_val, dtype=np.float32), axis=3)\n",
    "data_presence_val = np.array(data_presence_val, dtype=np.bool)\n",
    "data_images_pos_val = np.expand_dims(np.array(data_images_pos_val, dtype=np.float32), axis=3)\n",
    "data_masks_pos_val = np.array(data_masks_pos_val, dtype=np.bool)\n",
    "\n",
    "print('image (all) shapes:', data_images_all_train.shape, data_images_all_val.shape)\n",
    "print('presence label shapes:', data_presence_train.shape, data_presence_val.shape)\n",
    "print('image (pos) shapes:', data_images_pos_train.shape, data_images_pos_val.shape)\n",
    "print('mask (pos) shapes:', data_masks_pos_train.shape, data_masks_pos_val.shape)"
   ]
  },
  {
   "cell_type": "markdown",
   "metadata": {},
   "source": [
    "## augmentation"
   ]
  },
  {
   "cell_type": "code",
   "execution_count": 8,
   "metadata": {
    "collapsed": false
   },
   "outputs": [
    {
     "name": "stderr",
     "output_type": "stream",
     "text": [
      "100%|██████████| 4555/4555 [00:06<00:00, 743.96it/s]\n",
      "100%|██████████| 1871/1871 [00:04<00:00, 417.89it/s]\n"
     ]
    },
    {
     "name": "stdout",
     "output_type": "stream",
     "text": [
      "image (all) shapes: (22775, 128, 192, 1) (1080, 128, 192, 1)\n",
      "presence label shapes: (22775,) (1080,)\n",
      "image (pos) shapes: (9355, 128, 192, 1) (452, 128, 192, 1)\n",
      "mask (pos) shapes: (9355, 128, 192) (452, 128, 192)\n"
     ]
    }
   ],
   "source": [
    "multiplier = 4\n",
    "\n",
    "data_images_all_train_augment = []\n",
    "data_presence_train_augment = []\n",
    "for i in tqdm(range(data_images_all_train.shape[0])):\n",
    "    data_images_all_train_augment.append(data_images_all_train[i])\n",
    "    data_presence_train_augment.append(data_presence_train[i])\n",
    "    for j in range(multiplier):\n",
    "        y_shift = random.randint(int(data_images_all_train.shape[1] * -0.125), \n",
    "                                 int(data_images_all_train.shape[1] * 0.125))\n",
    "        x_shift = random.randint(int(data_images_all_train.shape[2] * -0.125), \n",
    "                                 int(data_images_all_train.shape[2] * 0.125))\n",
    "        image_aug = ndimage.interpolation.shift(data_images_all_train[i], (y_shift, x_shift, 0), order=0)\n",
    "        data_images_all_train_augment.append(image_aug)\n",
    "        data_presence_train_augment.append(data_presence_train[i])\n",
    "        \n",
    "data_images_pos_train_augment = []\n",
    "data_masks_pos_train_augment = []\n",
    "for i in tqdm(range(data_images_pos_train.shape[0])):\n",
    "    data_images_pos_train_augment.append(data_images_pos_train[i])\n",
    "    data_masks_pos_train_augment.append(data_masks_pos_train[i])\n",
    "    for j in range(multiplier):\n",
    "        y_shift = random.randint(int(data_images_pos_train.shape[1] * -0.125), \n",
    "                                 int(data_images_pos_train.shape[1] * 0.125))\n",
    "        x_shift = random.randint(int(data_images_pos_train.shape[2] * -0.125), \n",
    "                                 int(data_images_pos_train.shape[2] * 0.125))\n",
    "        image_aug = ndimage.interpolation.shift(data_images_pos_train[i], (y_shift, x_shift, 0), order=0)\n",
    "        mask_aug = ndimage.interpolation.shift(data_masks_pos_train[i], (y_shift, x_shift), order=0)\n",
    "        data_images_pos_train_augment.append(image_aug)\n",
    "        data_masks_pos_train_augment.append(mask_aug)\n",
    "\n",
    "data_images_all_train = np.array(data_images_all_train_augment, dtype=np.float32)\n",
    "data_presence_train = np.array(data_presence_train_augment, dtype=np.bool)\n",
    "data_images_pos_train = np.array(data_images_pos_train_augment, dtype=np.float32)\n",
    "data_masks_pos_train = np.array(data_masks_pos_train_augment, dtype=np.bool)\n",
    "\n",
    "print('image (all) shapes:', data_images_all_train.shape, data_images_all_val.shape)\n",
    "print('presence label shapes:', data_presence_train.shape, data_presence_val.shape)\n",
    "print('image (pos) shapes:', data_images_pos_train.shape, data_images_pos_val.shape)\n",
    "print('mask (pos) shapes:', data_masks_pos_train.shape, data_masks_pos_val.shape)"
   ]
  },
  {
   "cell_type": "markdown",
   "metadata": {},
   "source": [
    "## save"
   ]
  },
  {
   "cell_type": "code",
   "execution_count": 9,
   "metadata": {
    "collapsed": true
   },
   "outputs": [],
   "source": [
    "with open(os.path.join(PROCDIR, 'data_train_val_08.pkl'), 'wb') as f:\n",
    "    pickle.dump((data_images_all_train, data_images_all_val, \n",
    "                 data_presence_train, data_presence_val, \n",
    "                 data_images_pos_train, data_images_pos_val, \n",
    "                 data_masks_pos_train, data_masks_pos_val), f, protocol=4)"
   ]
  },
  {
   "cell_type": "code",
   "execution_count": null,
   "metadata": {
    "collapsed": true
   },
   "outputs": [],
   "source": []
  }
 ],
 "metadata": {
  "kernelspec": {
   "display_name": "Python 3",
   "language": "python",
   "name": "python3"
  },
  "language_info": {
   "codemirror_mode": {
    "name": "ipython",
    "version": 3
   },
   "file_extension": ".py",
   "mimetype": "text/x-python",
   "name": "python",
   "nbconvert_exporter": "python",
   "pygments_lexer": "ipython3",
   "version": "3.5.1"
  }
 },
 "nbformat": 4,
 "nbformat_minor": 0
}
